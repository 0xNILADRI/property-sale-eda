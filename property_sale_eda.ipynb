{
 "cells": [
  {
   "cell_type": "markdown",
   "metadata": {},
   "source": [
    "# Real Estate Firm - Property Sale Data\n",
    "\n",
    "### About the Data\n",
    "\n",
    "This is an assumed data for property sale details. The data consists of both the property and the customer details for the property enrolled by the dealing enterprise. The column contains values are described below :\n",
    "\n",
    "* __id__ - Unique ID for the property \n",
    "* __building__ - Building number \n",
    "* __year-sale__ - Year of sale\n",
    "* __month-sale__ - Month of sale \n",
    "* __property-type__ - Property Type\n",
    "* __property-#__ - Propery number\n",
    "* __area__ - Area in (ft.)\n",
    "* __price__ - Price of property\n",
    "* __status__ - Status of property - sold/not sold\n",
    "* __customer-id__ - Unique ID for the customer\n",
    "* __entity__ - Individual / Firm\n",
    "* __name__ - Customer first name\n",
    "* __surname__ - Customer last name\n",
    "* __year__ - Customer year of birth\n",
    "* __month__ - Customer month of birth\n",
    "* __day__ - Customer day of birth\n",
    "* __gender__ - Gender of customer\n",
    "* __country__ - Counrty \n",
    "* __state__ - State\n",
    "* __purpose__ - Purpose - Home / Investment\n",
    "* __satisfaction-score__ - Customer Satisfaction score\n",
    "* __mortgage__ - Apllied for mortgage - Yes / No\n",
    "* __source__ - Source via which contacted the firm "
   ]
  },
  {
   "cell_type": "code",
   "execution_count": 1,
   "metadata": {},
   "outputs": [],
   "source": [
    "# import necessary libraries\n",
    "import numpy as np\n",
    "import pandas as pd\n",
    "import matplotlib.pyplot as plt\n",
    "import seaborn as sns\n",
    "\n",
    "# pandas tweaks\n",
    "from IPython.display import display\n",
    "pd.options.display.max_columns = None\n",
    "pd.options.mode.chained_assignment = None\n",
    "\n",
    "%matplotlib inline"
   ]
  },
  {
   "cell_type": "code",
   "execution_count": 2,
   "metadata": {},
   "outputs": [],
   "source": [
    "# import data \n",
    "df_sale = pd.read_csv('data.csv',delimiter=',')"
   ]
  },
  {
   "cell_type": "code",
   "execution_count": 3,
   "metadata": {},
   "outputs": [
    {
     "output_type": "execute_result",
     "data": {
      "text/plain": [
       "     id  building  year-sale  month-sale property-type  property-#     area  \\\n",
       "0  1030         1     2005.0        11.0     Apartment          30   743.09   \n",
       "1  1029         1     2005.0        10.0     Apartment          29   756.21   \n",
       "2  2002         2     2007.0         7.0     Apartment           2   587.28   \n",
       "3  2031         2     2007.0        12.0     Apartment          31  1604.75   \n",
       "4  1049         1     2004.0        11.0     Apartment          49  1375.45   \n",
       "\n",
       "       price  status customer-id      entity        name   surname    year  \\\n",
       "0  246172.68   Sold        C0028  Individual     Madalyn    Mercer  1986.0   \n",
       "1  246331.90   Sold        C0027  Individual        Lara  Carrillo  1983.0   \n",
       "2  209280.91   Sold        C0112  Individual     Donavan   Flowers  1985.0   \n",
       "3  452667.01   Sold        C0160  Individual      Darien    Dorsey  1985.0   \n",
       "4  467083.31   Sold        C0014  Individual  Alessandra     Perry  1979.0   \n",
       "\n",
       "   month   day gender country       state     purpose  satisfaction-score  \\\n",
       "0    6.0  21.0      F     USA  California        Home                 5.0   \n",
       "1    2.0  24.0      F     USA  California        Home                 5.0   \n",
       "2   12.0  27.0      M     USA  California        Home                 1.0   \n",
       "3   12.0  27.0      M     USA  California  Investment                 3.0   \n",
       "4    5.0  15.0      F     USA  California        Home                 4.0   \n",
       "\n",
       "  mortgage   source  \n",
       "0       No  Website  \n",
       "1       No  Website  \n",
       "2      Yes   Client  \n",
       "3      Yes  Website  \n",
       "4       No   Agency  "
      ],
      "text/html": "<div>\n<style scoped>\n    .dataframe tbody tr th:only-of-type {\n        vertical-align: middle;\n    }\n\n    .dataframe tbody tr th {\n        vertical-align: top;\n    }\n\n    .dataframe thead th {\n        text-align: right;\n    }\n</style>\n<table border=\"1\" class=\"dataframe\">\n  <thead>\n    <tr style=\"text-align: right;\">\n      <th></th>\n      <th>id</th>\n      <th>building</th>\n      <th>year-sale</th>\n      <th>month-sale</th>\n      <th>property-type</th>\n      <th>property-#</th>\n      <th>area</th>\n      <th>price</th>\n      <th>status</th>\n      <th>customer-id</th>\n      <th>entity</th>\n      <th>name</th>\n      <th>surname</th>\n      <th>year</th>\n      <th>month</th>\n      <th>day</th>\n      <th>gender</th>\n      <th>country</th>\n      <th>state</th>\n      <th>purpose</th>\n      <th>satisfaction-score</th>\n      <th>mortgage</th>\n      <th>source</th>\n    </tr>\n  </thead>\n  <tbody>\n    <tr>\n      <th>0</th>\n      <td>1030</td>\n      <td>1</td>\n      <td>2005.0</td>\n      <td>11.0</td>\n      <td>Apartment</td>\n      <td>30</td>\n      <td>743.09</td>\n      <td>246172.68</td>\n      <td>Sold</td>\n      <td>C0028</td>\n      <td>Individual</td>\n      <td>Madalyn</td>\n      <td>Mercer</td>\n      <td>1986.0</td>\n      <td>6.0</td>\n      <td>21.0</td>\n      <td>F</td>\n      <td>USA</td>\n      <td>California</td>\n      <td>Home</td>\n      <td>5.0</td>\n      <td>No</td>\n      <td>Website</td>\n    </tr>\n    <tr>\n      <th>1</th>\n      <td>1029</td>\n      <td>1</td>\n      <td>2005.0</td>\n      <td>10.0</td>\n      <td>Apartment</td>\n      <td>29</td>\n      <td>756.21</td>\n      <td>246331.90</td>\n      <td>Sold</td>\n      <td>C0027</td>\n      <td>Individual</td>\n      <td>Lara</td>\n      <td>Carrillo</td>\n      <td>1983.0</td>\n      <td>2.0</td>\n      <td>24.0</td>\n      <td>F</td>\n      <td>USA</td>\n      <td>California</td>\n      <td>Home</td>\n      <td>5.0</td>\n      <td>No</td>\n      <td>Website</td>\n    </tr>\n    <tr>\n      <th>2</th>\n      <td>2002</td>\n      <td>2</td>\n      <td>2007.0</td>\n      <td>7.0</td>\n      <td>Apartment</td>\n      <td>2</td>\n      <td>587.28</td>\n      <td>209280.91</td>\n      <td>Sold</td>\n      <td>C0112</td>\n      <td>Individual</td>\n      <td>Donavan</td>\n      <td>Flowers</td>\n      <td>1985.0</td>\n      <td>12.0</td>\n      <td>27.0</td>\n      <td>M</td>\n      <td>USA</td>\n      <td>California</td>\n      <td>Home</td>\n      <td>1.0</td>\n      <td>Yes</td>\n      <td>Client</td>\n    </tr>\n    <tr>\n      <th>3</th>\n      <td>2031</td>\n      <td>2</td>\n      <td>2007.0</td>\n      <td>12.0</td>\n      <td>Apartment</td>\n      <td>31</td>\n      <td>1604.75</td>\n      <td>452667.01</td>\n      <td>Sold</td>\n      <td>C0160</td>\n      <td>Individual</td>\n      <td>Darien</td>\n      <td>Dorsey</td>\n      <td>1985.0</td>\n      <td>12.0</td>\n      <td>27.0</td>\n      <td>M</td>\n      <td>USA</td>\n      <td>California</td>\n      <td>Investment</td>\n      <td>3.0</td>\n      <td>Yes</td>\n      <td>Website</td>\n    </tr>\n    <tr>\n      <th>4</th>\n      <td>1049</td>\n      <td>1</td>\n      <td>2004.0</td>\n      <td>11.0</td>\n      <td>Apartment</td>\n      <td>49</td>\n      <td>1375.45</td>\n      <td>467083.31</td>\n      <td>Sold</td>\n      <td>C0014</td>\n      <td>Individual</td>\n      <td>Alessandra</td>\n      <td>Perry</td>\n      <td>1979.0</td>\n      <td>5.0</td>\n      <td>15.0</td>\n      <td>F</td>\n      <td>USA</td>\n      <td>California</td>\n      <td>Home</td>\n      <td>4.0</td>\n      <td>No</td>\n      <td>Agency</td>\n    </tr>\n  </tbody>\n</table>\n</div>"
     },
     "metadata": {},
     "execution_count": 3
    }
   ],
   "source": [
    "df_sale.head()"
   ]
  },
  {
   "cell_type": "code",
   "execution_count": 4,
   "metadata": {},
   "outputs": [
    {
     "output_type": "execute_result",
     "data": {
      "text/plain": [
       "(267, 23)"
      ]
     },
     "metadata": {},
     "execution_count": 4
    }
   ],
   "source": [
    "# check shape of dataset\n",
    "df_sale.shape"
   ]
  },
  {
   "cell_type": "markdown",
   "metadata": {},
   "source": [
    "The data set contains 266 data points and has 23 columns."
   ]
  },
  {
   "cell_type": "code",
   "execution_count": 5,
   "metadata": {},
   "outputs": [],
   "source": [
    "# drop useless columns\n",
    "drop = ['id','building','property-#','name','surname','month','day']\n",
    "df_sale.drop(drop,axis = 1,  inplace=True)"
   ]
  },
  {
   "cell_type": "code",
   "execution_count": 6,
   "metadata": {},
   "outputs": [
    {
     "output_type": "execute_result",
     "data": {
      "text/plain": [
       " Sold     195\n",
       "Name: status, dtype: int64"
      ]
     },
     "metadata": {},
     "execution_count": 6
    }
   ],
   "source": [
    "# check value count of status\n",
    "df_sale.status.value_counts()"
   ]
  },
  {
   "cell_type": "code",
   "execution_count": 7,
   "metadata": {},
   "outputs": [],
   "source": [
    "# we only want to perform analysis on sale data, hence we will consider only sold data\n",
    "df_sold = df_sale[df_sale['status']==' Sold ']"
   ]
  },
  {
   "cell_type": "code",
   "execution_count": 8,
   "metadata": {},
   "outputs": [
    {
     "output_type": "execute_result",
     "data": {
      "text/plain": [
       "     year-sale  month-sale property-type     area      price  status  \\\n",
       "0       2005.0        11.0     Apartment   743.09  246172.68   Sold    \n",
       "1       2005.0        10.0     Apartment   756.21  246331.90   Sold    \n",
       "2       2007.0         7.0     Apartment   587.28  209280.91   Sold    \n",
       "3       2007.0        12.0     Apartment  1604.75  452667.01   Sold    \n",
       "4       2004.0        11.0     Apartment  1375.45  467083.31   Sold    \n",
       "..         ...         ...           ...      ...        ...     ...   \n",
       "191     2005.0         7.0     Apartment   743.09  210745.17   Sold    \n",
       "192     2005.0         7.0     Apartment  1160.36  331154.88   Sold    \n",
       "193     2005.0         7.0     Apartment   625.80  204434.68   Sold    \n",
       "194     2005.0         7.0     Apartment   756.21  189194.31   Sold    \n",
       "195     2005.0         7.0     Apartment   625.80  204027.09   Sold    \n",
       "\n",
       "    customer-id      entity    year gender country       state     purpose  \\\n",
       "0         C0028  Individual  1986.0      F     USA  California        Home   \n",
       "1         C0027  Individual  1983.0      F     USA  California        Home   \n",
       "2         C0112  Individual  1985.0      M     USA  California        Home   \n",
       "3         C0160  Individual  1985.0      M     USA  California  Investment   \n",
       "4         C0014  Individual  1979.0      F     USA  California        Home   \n",
       "..          ...         ...     ...    ...     ...         ...         ...   \n",
       "191       C0174        Firm     NaN    NaN    USA   California  Investment   \n",
       "192       C0174        Firm     NaN    NaN    USA   California  Investment   \n",
       "193       C0174        Firm     NaN    NaN    USA   California  Investment   \n",
       "194       C0174        Firm     NaN    NaN    USA   California  Investment   \n",
       "195       C0174        Firm     NaN    NaN    USA   California  Investment   \n",
       "\n",
       "     satisfaction-score mortgage   source  \n",
       "0                   5.0       No  Website  \n",
       "1                   5.0       No  Website  \n",
       "2                   1.0      Yes   Client  \n",
       "3                   3.0      Yes  Website  \n",
       "4                   4.0       No   Agency  \n",
       "..                  ...      ...      ...  \n",
       "191                 5.0       No  Website  \n",
       "192                 5.0       No  Website  \n",
       "193                 5.0       No  Website  \n",
       "194                 5.0       No  Website  \n",
       "195                 5.0       No  Website  \n",
       "\n",
       "[195 rows x 16 columns]"
      ],
      "text/html": "<div>\n<style scoped>\n    .dataframe tbody tr th:only-of-type {\n        vertical-align: middle;\n    }\n\n    .dataframe tbody tr th {\n        vertical-align: top;\n    }\n\n    .dataframe thead th {\n        text-align: right;\n    }\n</style>\n<table border=\"1\" class=\"dataframe\">\n  <thead>\n    <tr style=\"text-align: right;\">\n      <th></th>\n      <th>year-sale</th>\n      <th>month-sale</th>\n      <th>property-type</th>\n      <th>area</th>\n      <th>price</th>\n      <th>status</th>\n      <th>customer-id</th>\n      <th>entity</th>\n      <th>year</th>\n      <th>gender</th>\n      <th>country</th>\n      <th>state</th>\n      <th>purpose</th>\n      <th>satisfaction-score</th>\n      <th>mortgage</th>\n      <th>source</th>\n    </tr>\n  </thead>\n  <tbody>\n    <tr>\n      <th>0</th>\n      <td>2005.0</td>\n      <td>11.0</td>\n      <td>Apartment</td>\n      <td>743.09</td>\n      <td>246172.68</td>\n      <td>Sold</td>\n      <td>C0028</td>\n      <td>Individual</td>\n      <td>1986.0</td>\n      <td>F</td>\n      <td>USA</td>\n      <td>California</td>\n      <td>Home</td>\n      <td>5.0</td>\n      <td>No</td>\n      <td>Website</td>\n    </tr>\n    <tr>\n      <th>1</th>\n      <td>2005.0</td>\n      <td>10.0</td>\n      <td>Apartment</td>\n      <td>756.21</td>\n      <td>246331.90</td>\n      <td>Sold</td>\n      <td>C0027</td>\n      <td>Individual</td>\n      <td>1983.0</td>\n      <td>F</td>\n      <td>USA</td>\n      <td>California</td>\n      <td>Home</td>\n      <td>5.0</td>\n      <td>No</td>\n      <td>Website</td>\n    </tr>\n    <tr>\n      <th>2</th>\n      <td>2007.0</td>\n      <td>7.0</td>\n      <td>Apartment</td>\n      <td>587.28</td>\n      <td>209280.91</td>\n      <td>Sold</td>\n      <td>C0112</td>\n      <td>Individual</td>\n      <td>1985.0</td>\n      <td>M</td>\n      <td>USA</td>\n      <td>California</td>\n      <td>Home</td>\n      <td>1.0</td>\n      <td>Yes</td>\n      <td>Client</td>\n    </tr>\n    <tr>\n      <th>3</th>\n      <td>2007.0</td>\n      <td>12.0</td>\n      <td>Apartment</td>\n      <td>1604.75</td>\n      <td>452667.01</td>\n      <td>Sold</td>\n      <td>C0160</td>\n      <td>Individual</td>\n      <td>1985.0</td>\n      <td>M</td>\n      <td>USA</td>\n      <td>California</td>\n      <td>Investment</td>\n      <td>3.0</td>\n      <td>Yes</td>\n      <td>Website</td>\n    </tr>\n    <tr>\n      <th>4</th>\n      <td>2004.0</td>\n      <td>11.0</td>\n      <td>Apartment</td>\n      <td>1375.45</td>\n      <td>467083.31</td>\n      <td>Sold</td>\n      <td>C0014</td>\n      <td>Individual</td>\n      <td>1979.0</td>\n      <td>F</td>\n      <td>USA</td>\n      <td>California</td>\n      <td>Home</td>\n      <td>4.0</td>\n      <td>No</td>\n      <td>Agency</td>\n    </tr>\n    <tr>\n      <th>...</th>\n      <td>...</td>\n      <td>...</td>\n      <td>...</td>\n      <td>...</td>\n      <td>...</td>\n      <td>...</td>\n      <td>...</td>\n      <td>...</td>\n      <td>...</td>\n      <td>...</td>\n      <td>...</td>\n      <td>...</td>\n      <td>...</td>\n      <td>...</td>\n      <td>...</td>\n      <td>...</td>\n    </tr>\n    <tr>\n      <th>191</th>\n      <td>2005.0</td>\n      <td>7.0</td>\n      <td>Apartment</td>\n      <td>743.09</td>\n      <td>210745.17</td>\n      <td>Sold</td>\n      <td>C0174</td>\n      <td>Firm</td>\n      <td>NaN</td>\n      <td>NaN</td>\n      <td>USA</td>\n      <td>California</td>\n      <td>Investment</td>\n      <td>5.0</td>\n      <td>No</td>\n      <td>Website</td>\n    </tr>\n    <tr>\n      <th>192</th>\n      <td>2005.0</td>\n      <td>7.0</td>\n      <td>Apartment</td>\n      <td>1160.36</td>\n      <td>331154.88</td>\n      <td>Sold</td>\n      <td>C0174</td>\n      <td>Firm</td>\n      <td>NaN</td>\n      <td>NaN</td>\n      <td>USA</td>\n      <td>California</td>\n      <td>Investment</td>\n      <td>5.0</td>\n      <td>No</td>\n      <td>Website</td>\n    </tr>\n    <tr>\n      <th>193</th>\n      <td>2005.0</td>\n      <td>7.0</td>\n      <td>Apartment</td>\n      <td>625.80</td>\n      <td>204434.68</td>\n      <td>Sold</td>\n      <td>C0174</td>\n      <td>Firm</td>\n      <td>NaN</td>\n      <td>NaN</td>\n      <td>USA</td>\n      <td>California</td>\n      <td>Investment</td>\n      <td>5.0</td>\n      <td>No</td>\n      <td>Website</td>\n    </tr>\n    <tr>\n      <th>194</th>\n      <td>2005.0</td>\n      <td>7.0</td>\n      <td>Apartment</td>\n      <td>756.21</td>\n      <td>189194.31</td>\n      <td>Sold</td>\n      <td>C0174</td>\n      <td>Firm</td>\n      <td>NaN</td>\n      <td>NaN</td>\n      <td>USA</td>\n      <td>California</td>\n      <td>Investment</td>\n      <td>5.0</td>\n      <td>No</td>\n      <td>Website</td>\n    </tr>\n    <tr>\n      <th>195</th>\n      <td>2005.0</td>\n      <td>7.0</td>\n      <td>Apartment</td>\n      <td>625.80</td>\n      <td>204027.09</td>\n      <td>Sold</td>\n      <td>C0174</td>\n      <td>Firm</td>\n      <td>NaN</td>\n      <td>NaN</td>\n      <td>USA</td>\n      <td>California</td>\n      <td>Investment</td>\n      <td>5.0</td>\n      <td>No</td>\n      <td>Website</td>\n    </tr>\n  </tbody>\n</table>\n<p>195 rows × 16 columns</p>\n</div>"
     },
     "metadata": {},
     "execution_count": 8
    }
   ],
   "source": [
    "df_sold"
   ]
  },
  {
   "cell_type": "markdown",
   "metadata": {},
   "source": [
    "### Q1. What is the gender distrubution when considered while buying a property ?"
   ]
  },
  {
   "cell_type": "code",
   "execution_count": 9,
   "metadata": {},
   "outputs": [
    {
     "output_type": "execute_result",
     "data": {
      "text/plain": [
       "array(['F', 'M', nan], dtype=object)"
      ]
     },
     "metadata": {},
     "execution_count": 9
    }
   ],
   "source": [
    "# check items in gender column\n",
    "df_sold['gender'].unique()"
   ]
  },
  {
   "cell_type": "code",
   "execution_count": 10,
   "metadata": {},
   "outputs": [],
   "source": [
    "# after carefully analyzing the gender column we found there are null values, which are for the firms \n",
    "# who bought the propert hence no gender, therefor we replace null with Firm\n",
    "df_sold['gender'].fillna('FIRM',inplace=True)\n",
    "df_sold['gender'].replace('F','FEMALE',inplace=True)\n",
    "df_sold['gender'].replace('M','MALE',inplace=True)"
   ]
  },
  {
   "cell_type": "code",
   "execution_count": 11,
   "metadata": {},
   "outputs": [
    {
     "output_type": "execute_result",
     "data": {
      "text/plain": [
       "MALE      108\n",
       "FEMALE     70\n",
       "FIRM       17\n",
       "Name: gender, dtype: int64"
      ]
     },
     "metadata": {},
     "execution_count": 11
    }
   ],
   "source": [
    "df_sold['gender'].value_counts()"
   ]
  },
  {
   "cell_type": "code",
   "execution_count": 12,
   "metadata": {},
   "outputs": [],
   "source": [
    "labels = df_sold['gender'].value_counts().index.tolist()\n",
    "sizes = df_sold['gender'].value_counts().values.tolist()"
   ]
  },
  {
   "cell_type": "code",
   "execution_count": 13,
   "metadata": {},
   "outputs": [
    {
     "output_type": "display_data",
     "data": {
      "text/plain": "<Figure size 432x288 with 1 Axes>",
      "image/svg+xml": "<?xml version=\"1.0\" encoding=\"utf-8\" standalone=\"no\"?>\r\n<!DOCTYPE svg PUBLIC \"-//W3C//DTD SVG 1.1//EN\"\r\n  \"http://www.w3.org/Graphics/SVG/1.1/DTD/svg11.dtd\">\r\n<!-- Created with matplotlib (https://matplotlib.org/) -->\r\n<svg height=\"279.927651pt\" version=\"1.1\" viewBox=\"0 0 424.8 279.927651\" width=\"424.8pt\" xmlns=\"http://www.w3.org/2000/svg\" xmlns:xlink=\"http://www.w3.org/1999/xlink\">\r\n <metadata>\r\n  <rdf:RDF xmlns:cc=\"http://creativecommons.org/ns#\" xmlns:dc=\"http://purl.org/dc/elements/1.1/\" xmlns:rdf=\"http://www.w3.org/1999/02/22-rdf-syntax-ns#\">\r\n   <cc:Work>\r\n    <dc:type rdf:resource=\"http://purl.org/dc/dcmitype/StillImage\"/>\r\n    <dc:date>2020-12-06T19:20:10.923166</dc:date>\r\n    <dc:format>image/svg+xml</dc:format>\r\n    <dc:creator>\r\n     <cc:Agent>\r\n      <dc:title>Matplotlib v3.3.2, https://matplotlib.org/</dc:title>\r\n     </cc:Agent>\r\n    </dc:creator>\r\n   </cc:Work>\r\n  </rdf:RDF>\r\n </metadata>\r\n <defs>\r\n  <style type=\"text/css\">*{stroke-linecap:butt;stroke-linejoin:round;}</style>\r\n </defs>\r\n <g id=\"figure_1\">\r\n  <g id=\"patch_1\">\r\n   <path d=\"M 0 279.927651 \r\nL 424.8 279.927651 \r\nL 424.8 0 \r\nL 0 0 \r\nz\r\n\" style=\"fill:none;\"/>\r\n  </g>\r\n  <g id=\"axes_1\">\r\n   <g id=\"patch_2\">\r\n    <path d=\"M 203.871221 23.657782 \r\nC 186.463497 23.657782 169.263877 27.444307 153.477259 34.752098 \r\nC 137.69064 42.059888 123.694472 52.714219 112.469237 65.968715 \r\nC 101.244002 79.223211 93.05809 94.760964 88.484954 111.493498 \r\nC 83.911817 128.226032 83.060798 145.753281 85.991512 162.847397 \r\nC 88.922226 179.941513 95.564603 196.193785 105.453319 210.465682 \r\nC 115.342035 224.737579 128.240656 236.687867 143.245587 245.479385 \r\nC 158.250519 254.270904 175.003 259.693451 192.329459 261.367159 \r\nC 209.655918 263.040867 227.142087 260.925718 243.562998 255.169886 \r\nL 203.871221 142.790547 \r\nL 203.871221 23.657782 \r\nz\r\n\" style=\"fill:#092436;opacity:0.5;stroke:#092436;stroke-linejoin:miter;\"/>\r\n   </g>\r\n   <g id=\"patch_3\">\r\n    <path d=\"M 255.350969 253.164201 \r\nC 276.693541 245.683235 295.47308 232.319803 309.498055 214.633387 \r\nC 323.52303 196.946971 332.225799 175.653406 334.590767 153.237604 \r\nC 336.955735 130.821803 332.887183 108.191015 322.859903 87.986206 \r\nC 312.832623 67.781396 297.252455 50.820327 277.937572 39.082319 \r\nL 215.659192 140.784862 \r\nL 255.350969 253.164201 \r\nz\r\n\" style=\"fill:#4c2604;opacity:0.5;stroke:#4c2604;stroke-linejoin:miter;\"/>\r\n   </g>\r\n   <g id=\"patch_4\">\r\n    <path d=\"M 277.937572 39.082319 \r\nC 268.602807 33.409411 258.530963 29.038663 248.003918 26.092398 \r\nC 237.476874 23.146132 226.593761 21.652094 215.659164 21.652097 \r\nL 215.659192 140.784862 \r\nL 277.937572 39.082319 \r\nz\r\n\" style=\"fill:#0d300d;opacity:0.5;stroke:#0d300d;stroke-linejoin:miter;\"/>\r\n   </g>\r\n   <g id=\"patch_5\">\r\n    <path d=\"M 206.262955 21.275126 \r\nC 188.85523 21.275126 171.655611 25.061651 155.868992 32.369442 \r\nC 140.082374 39.677233 126.086206 50.331563 114.860971 63.586059 \r\nC 103.635736 76.840555 95.449824 92.378308 90.876687 109.110843 \r\nC 86.303551 125.843377 85.452531 143.370625 88.383246 160.464742 \r\nC 91.31396 177.558858 97.956337 193.81113 107.845053 208.083027 \r\nC 117.733769 222.354923 130.63239 234.305211 145.637321 243.09673 \r\nC 160.642253 251.888248 177.394734 257.310796 194.721192 258.984504 \r\nC 212.047651 260.658212 229.533821 258.543063 245.954732 252.787231 \r\nL 206.262955 140.407892 \r\nL 206.262955 21.275126 \r\nz\r\n\" style=\"fill:#1f77b4;\"/>\r\n   </g>\r\n   <g id=\"patch_6\">\r\n    <path d=\"M 257.742703 250.781546 \r\nC 279.085275 243.30058 297.864814 229.937148 311.889789 212.250732 \r\nC 325.914764 194.564315 334.617533 173.27075 336.982501 150.854949 \r\nC 339.347469 128.439148 335.278917 105.80836 325.251637 85.60355 \r\nC 315.224357 65.398741 299.644189 48.437672 280.329306 36.699663 \r\nL 218.050925 138.402207 \r\nL 257.742703 250.781546 \r\nz\r\n\" style=\"fill:#ff7f0e;\"/>\r\n   </g>\r\n   <g id=\"patch_7\">\r\n    <path d=\"M 280.329306 36.699663 \r\nC 270.994541 31.026756 260.922696 26.656008 250.395652 23.709742 \r\nC 239.868608 20.763477 228.985495 19.269439 218.050897 19.269441 \r\nL 218.050925 138.402207 \r\nL 280.329306 36.699663 \r\nz\r\n\" style=\"fill:#2ca02c;\"/>\r\n   </g>\r\n   <g id=\"matplotlib.axis_1\"/>\r\n   <g id=\"matplotlib.axis_2\"/>\r\n   <g id=\"text_1\">\r\n    <!-- MALE -->\r\n    <g transform=\"translate(49.2359 165.229802)scale(0.1 -0.1)\">\r\n     <defs>\r\n      <path d=\"M 9.8125 72.90625 \r\nL 24.515625 72.90625 \r\nL 43.109375 23.296875 \r\nL 61.8125 72.90625 \r\nL 76.515625 72.90625 \r\nL 76.515625 0 \r\nL 66.890625 0 \r\nL 66.890625 64.015625 \r\nL 48.09375 14.015625 \r\nL 38.1875 14.015625 \r\nL 19.390625 64.015625 \r\nL 19.390625 0 \r\nL 9.8125 0 \r\nz\r\n\" id=\"DejaVuSans-77\"/>\r\n      <path d=\"M 34.1875 63.1875 \r\nL 20.796875 26.90625 \r\nL 47.609375 26.90625 \r\nz\r\nM 28.609375 72.90625 \r\nL 39.796875 72.90625 \r\nL 67.578125 0 \r\nL 57.328125 0 \r\nL 50.6875 18.703125 \r\nL 17.828125 18.703125 \r\nL 11.1875 0 \r\nL 0.78125 0 \r\nz\r\n\" id=\"DejaVuSans-65\"/>\r\n      <path d=\"M 9.8125 72.90625 \r\nL 19.671875 72.90625 \r\nL 19.671875 8.296875 \r\nL 55.171875 8.296875 \r\nL 55.171875 0 \r\nL 9.8125 0 \r\nz\r\n\" id=\"DejaVuSans-76\"/>\r\n      <path d=\"M 9.8125 72.90625 \r\nL 55.90625 72.90625 \r\nL 55.90625 64.59375 \r\nL 19.671875 64.59375 \r\nL 19.671875 43.015625 \r\nL 54.390625 43.015625 \r\nL 54.390625 34.71875 \r\nL 19.671875 34.71875 \r\nL 19.671875 8.296875 \r\nL 56.78125 8.296875 \r\nL 56.78125 0 \r\nL 9.8125 0 \r\nz\r\n\" id=\"DejaVuSans-69\"/>\r\n     </defs>\r\n     <use xlink:href=\"#DejaVuSans-77\"/>\r\n     <use x=\"86.279297\" xlink:href=\"#DejaVuSans-65\"/>\r\n     <use x=\"154.6875\" xlink:href=\"#DejaVuSans-76\"/>\r\n     <use x=\"210.400391\" xlink:href=\"#DejaVuSans-69\"/>\r\n    </g>\r\n   </g>\r\n   <g id=\"text_2\">\r\n    <!-- 55.4% -->\r\n    <g transform=\"translate(119.651536 155.201377)scale(0.1 -0.1)\">\r\n     <defs>\r\n      <path d=\"M 10.796875 72.90625 \r\nL 49.515625 72.90625 \r\nL 49.515625 64.59375 \r\nL 19.828125 64.59375 \r\nL 19.828125 46.734375 \r\nQ 21.96875 47.46875 24.109375 47.828125 \r\nQ 26.265625 48.1875 28.421875 48.1875 \r\nQ 40.625 48.1875 47.75 41.5 \r\nQ 54.890625 34.8125 54.890625 23.390625 \r\nQ 54.890625 11.625 47.5625 5.09375 \r\nQ 40.234375 -1.421875 26.90625 -1.421875 \r\nQ 22.3125 -1.421875 17.546875 -0.640625 \r\nQ 12.796875 0.140625 7.71875 1.703125 \r\nL 7.71875 11.625 \r\nQ 12.109375 9.234375 16.796875 8.0625 \r\nQ 21.484375 6.890625 26.703125 6.890625 \r\nQ 35.15625 6.890625 40.078125 11.328125 \r\nQ 45.015625 15.765625 45.015625 23.390625 \r\nQ 45.015625 31 40.078125 35.4375 \r\nQ 35.15625 39.890625 26.703125 39.890625 \r\nQ 22.75 39.890625 18.8125 39.015625 \r\nQ 14.890625 38.140625 10.796875 36.28125 \r\nz\r\n\" id=\"DejaVuSans-53\"/>\r\n      <path d=\"M 10.6875 12.40625 \r\nL 21 12.40625 \r\nL 21 0 \r\nL 10.6875 0 \r\nz\r\n\" id=\"DejaVuSans-46\"/>\r\n      <path d=\"M 37.796875 64.3125 \r\nL 12.890625 25.390625 \r\nL 37.796875 25.390625 \r\nz\r\nM 35.203125 72.90625 \r\nL 47.609375 72.90625 \r\nL 47.609375 25.390625 \r\nL 58.015625 25.390625 \r\nL 58.015625 17.1875 \r\nL 47.609375 17.1875 \r\nL 47.609375 0 \r\nL 37.796875 0 \r\nL 37.796875 17.1875 \r\nL 4.890625 17.1875 \r\nL 4.890625 26.703125 \r\nz\r\n\" id=\"DejaVuSans-52\"/>\r\n      <path d=\"M 72.703125 32.078125 \r\nQ 68.453125 32.078125 66.03125 28.46875 \r\nQ 63.625 24.859375 63.625 18.40625 \r\nQ 63.625 12.0625 66.03125 8.421875 \r\nQ 68.453125 4.78125 72.703125 4.78125 \r\nQ 76.859375 4.78125 79.265625 8.421875 \r\nQ 81.6875 12.0625 81.6875 18.40625 \r\nQ 81.6875 24.8125 79.265625 28.4375 \r\nQ 76.859375 32.078125 72.703125 32.078125 \r\nz\r\nM 72.703125 38.28125 \r\nQ 80.421875 38.28125 84.953125 32.90625 \r\nQ 89.5 27.546875 89.5 18.40625 \r\nQ 89.5 9.28125 84.9375 3.921875 \r\nQ 80.375 -1.421875 72.703125 -1.421875 \r\nQ 64.890625 -1.421875 60.34375 3.921875 \r\nQ 55.8125 9.28125 55.8125 18.40625 \r\nQ 55.8125 27.59375 60.375 32.9375 \r\nQ 64.9375 38.28125 72.703125 38.28125 \r\nz\r\nM 22.3125 68.015625 \r\nQ 18.109375 68.015625 15.6875 64.375 \r\nQ 13.28125 60.75 13.28125 54.390625 \r\nQ 13.28125 47.953125 15.671875 44.328125 \r\nQ 18.0625 40.71875 22.3125 40.71875 \r\nQ 26.5625 40.71875 28.96875 44.328125 \r\nQ 31.390625 47.953125 31.390625 54.390625 \r\nQ 31.390625 60.6875 28.953125 64.34375 \r\nQ 26.515625 68.015625 22.3125 68.015625 \r\nz\r\nM 66.40625 74.21875 \r\nL 74.21875 74.21875 \r\nL 28.609375 -1.421875 \r\nL 20.796875 -1.421875 \r\nz\r\nM 22.3125 74.21875 \r\nQ 30.03125 74.21875 34.609375 68.875 \r\nQ 39.203125 63.53125 39.203125 54.390625 \r\nQ 39.203125 45.171875 34.640625 39.84375 \r\nQ 30.078125 34.515625 22.3125 34.515625 \r\nQ 14.546875 34.515625 10.03125 39.859375 \r\nQ 5.515625 45.21875 5.515625 54.390625 \r\nQ 5.515625 63.484375 10.046875 68.84375 \r\nQ 14.59375 74.21875 22.3125 74.21875 \r\nz\r\n\" id=\"DejaVuSans-37\"/>\r\n     </defs>\r\n     <use xlink:href=\"#DejaVuSans-53\"/>\r\n     <use x=\"63.623047\" xlink:href=\"#DejaVuSans-53\"/>\r\n     <use x=\"127.246094\" xlink:href=\"#DejaVuSans-46\"/>\r\n     <use x=\"159.033203\" xlink:href=\"#DejaVuSans-52\"/>\r\n     <use x=\"222.65625\" xlink:href=\"#DejaVuSans-37\"/>\r\n    </g>\r\n   </g>\r\n   <g id=\"text_3\">\r\n    <!-- FEMALE -->\r\n    <g transform=\"translate(348.875658 154.859598)scale(0.1 -0.1)\">\r\n     <defs>\r\n      <path d=\"M 9.8125 72.90625 \r\nL 51.703125 72.90625 \r\nL 51.703125 64.59375 \r\nL 19.671875 64.59375 \r\nL 19.671875 43.109375 \r\nL 48.578125 43.109375 \r\nL 48.578125 34.8125 \r\nL 19.671875 34.8125 \r\nL 19.671875 0 \r\nL 9.8125 0 \r\nz\r\n\" id=\"DejaVuSans-70\"/>\r\n     </defs>\r\n     <use xlink:href=\"#DejaVuSans-70\"/>\r\n     <use x=\"57.519531\" xlink:href=\"#DejaVuSans-69\"/>\r\n     <use x=\"120.703125\" xlink:href=\"#DejaVuSans-77\"/>\r\n     <use x=\"206.982422\" xlink:href=\"#DejaVuSans-65\"/>\r\n     <use x=\"275.390625\" xlink:href=\"#DejaVuSans-76\"/>\r\n     <use x=\"331.103516\" xlink:href=\"#DejaVuSans-69\"/>\r\n    </g>\r\n   </g>\r\n   <g id=\"text_4\">\r\n    <!-- 35.9% -->\r\n    <g transform=\"translate(273.526277 148.633227)scale(0.1 -0.1)\">\r\n     <defs>\r\n      <path d=\"M 40.578125 39.3125 \r\nQ 47.65625 37.796875 51.625 33 \r\nQ 55.609375 28.21875 55.609375 21.1875 \r\nQ 55.609375 10.40625 48.1875 4.484375 \r\nQ 40.765625 -1.421875 27.09375 -1.421875 \r\nQ 22.515625 -1.421875 17.65625 -0.515625 \r\nQ 12.796875 0.390625 7.625 2.203125 \r\nL 7.625 11.71875 \r\nQ 11.71875 9.328125 16.59375 8.109375 \r\nQ 21.484375 6.890625 26.8125 6.890625 \r\nQ 36.078125 6.890625 40.9375 10.546875 \r\nQ 45.796875 14.203125 45.796875 21.1875 \r\nQ 45.796875 27.640625 41.28125 31.265625 \r\nQ 36.765625 34.90625 28.71875 34.90625 \r\nL 20.21875 34.90625 \r\nL 20.21875 43.015625 \r\nL 29.109375 43.015625 \r\nQ 36.375 43.015625 40.234375 45.921875 \r\nQ 44.09375 48.828125 44.09375 54.296875 \r\nQ 44.09375 59.90625 40.109375 62.90625 \r\nQ 36.140625 65.921875 28.71875 65.921875 \r\nQ 24.65625 65.921875 20.015625 65.03125 \r\nQ 15.375 64.15625 9.8125 62.3125 \r\nL 9.8125 71.09375 \r\nQ 15.4375 72.65625 20.34375 73.4375 \r\nQ 25.25 74.21875 29.59375 74.21875 \r\nQ 40.828125 74.21875 47.359375 69.109375 \r\nQ 53.90625 64.015625 53.90625 55.328125 \r\nQ 53.90625 49.265625 50.4375 45.09375 \r\nQ 46.96875 40.921875 40.578125 39.3125 \r\nz\r\n\" id=\"DejaVuSans-51\"/>\r\n      <path d=\"M 10.984375 1.515625 \r\nL 10.984375 10.5 \r\nQ 14.703125 8.734375 18.5 7.8125 \r\nQ 22.3125 6.890625 25.984375 6.890625 \r\nQ 35.75 6.890625 40.890625 13.453125 \r\nQ 46.046875 20.015625 46.78125 33.40625 \r\nQ 43.953125 29.203125 39.59375 26.953125 \r\nQ 35.25 24.703125 29.984375 24.703125 \r\nQ 19.046875 24.703125 12.671875 31.3125 \r\nQ 6.296875 37.9375 6.296875 49.421875 \r\nQ 6.296875 60.640625 12.9375 67.421875 \r\nQ 19.578125 74.21875 30.609375 74.21875 \r\nQ 43.265625 74.21875 49.921875 64.515625 \r\nQ 56.59375 54.828125 56.59375 36.375 \r\nQ 56.59375 19.140625 48.40625 8.859375 \r\nQ 40.234375 -1.421875 26.421875 -1.421875 \r\nQ 22.703125 -1.421875 18.890625 -0.6875 \r\nQ 15.09375 0.046875 10.984375 1.515625 \r\nz\r\nM 30.609375 32.421875 \r\nQ 37.25 32.421875 41.125 36.953125 \r\nQ 45.015625 41.5 45.015625 49.421875 \r\nQ 45.015625 57.28125 41.125 61.84375 \r\nQ 37.25 66.40625 30.609375 66.40625 \r\nQ 23.96875 66.40625 20.09375 61.84375 \r\nQ 16.21875 57.28125 16.21875 49.421875 \r\nQ 16.21875 41.5 20.09375 36.953125 \r\nQ 23.96875 32.421875 30.609375 32.421875 \r\nz\r\n\" id=\"DejaVuSans-57\"/>\r\n     </defs>\r\n     <use xlink:href=\"#DejaVuSans-51\"/>\r\n     <use x=\"63.623047\" xlink:href=\"#DejaVuSans-53\"/>\r\n     <use x=\"127.246094\" xlink:href=\"#DejaVuSans-46\"/>\r\n     <use x=\"159.033203\" xlink:href=\"#DejaVuSans-57\"/>\r\n     <use x=\"222.65625\" xlink:href=\"#DejaVuSans-37\"/>\r\n    </g>\r\n   </g>\r\n   <g id=\"text_5\">\r\n    <!-- FIRM -->\r\n    <g transform=\"translate(253.630125 14.999871)scale(0.1 -0.1)\">\r\n     <defs>\r\n      <path d=\"M 9.8125 72.90625 \r\nL 19.671875 72.90625 \r\nL 19.671875 0 \r\nL 9.8125 0 \r\nz\r\n\" id=\"DejaVuSans-73\"/>\r\n      <path d=\"M 44.390625 34.1875 \r\nQ 47.5625 33.109375 50.5625 29.59375 \r\nQ 53.5625 26.078125 56.59375 19.921875 \r\nL 66.609375 0 \r\nL 56 0 \r\nL 46.6875 18.703125 \r\nQ 43.0625 26.03125 39.671875 28.421875 \r\nQ 36.28125 30.8125 30.421875 30.8125 \r\nL 19.671875 30.8125 \r\nL 19.671875 0 \r\nL 9.8125 0 \r\nL 9.8125 72.90625 \r\nL 32.078125 72.90625 \r\nQ 44.578125 72.90625 50.734375 67.671875 \r\nQ 56.890625 62.453125 56.890625 51.90625 \r\nQ 56.890625 45.015625 53.6875 40.46875 \r\nQ 50.484375 35.9375 44.390625 34.1875 \r\nz\r\nM 19.671875 64.796875 \r\nL 19.671875 38.921875 \r\nL 32.078125 38.921875 \r\nQ 39.203125 38.921875 42.84375 42.21875 \r\nQ 46.484375 45.515625 46.484375 51.90625 \r\nQ 46.484375 58.296875 42.84375 61.546875 \r\nQ 39.203125 64.796875 32.078125 64.796875 \r\nz\r\n\" id=\"DejaVuSans-82\"/>\r\n     </defs>\r\n     <use xlink:href=\"#DejaVuSans-70\"/>\r\n     <use x=\"57.519531\" xlink:href=\"#DejaVuSans-73\"/>\r\n     <use x=\"87.011719\" xlink:href=\"#DejaVuSans-82\"/>\r\n     <use x=\"156.494141\" xlink:href=\"#DejaVuSans-77\"/>\r\n    </g>\r\n   </g>\r\n   <g id=\"text_6\">\r\n    <!-- 8.7% -->\r\n    <g transform=\"translate(224.755418 72.346103)scale(0.1 -0.1)\">\r\n     <defs>\r\n      <path d=\"M 31.78125 34.625 \r\nQ 24.75 34.625 20.71875 30.859375 \r\nQ 16.703125 27.09375 16.703125 20.515625 \r\nQ 16.703125 13.921875 20.71875 10.15625 \r\nQ 24.75 6.390625 31.78125 6.390625 \r\nQ 38.8125 6.390625 42.859375 10.171875 \r\nQ 46.921875 13.96875 46.921875 20.515625 \r\nQ 46.921875 27.09375 42.890625 30.859375 \r\nQ 38.875 34.625 31.78125 34.625 \r\nz\r\nM 21.921875 38.8125 \r\nQ 15.578125 40.375 12.03125 44.71875 \r\nQ 8.5 49.078125 8.5 55.328125 \r\nQ 8.5 64.0625 14.71875 69.140625 \r\nQ 20.953125 74.21875 31.78125 74.21875 \r\nQ 42.671875 74.21875 48.875 69.140625 \r\nQ 55.078125 64.0625 55.078125 55.328125 \r\nQ 55.078125 49.078125 51.53125 44.71875 \r\nQ 48 40.375 41.703125 38.8125 \r\nQ 48.828125 37.15625 52.796875 32.3125 \r\nQ 56.78125 27.484375 56.78125 20.515625 \r\nQ 56.78125 9.90625 50.3125 4.234375 \r\nQ 43.84375 -1.421875 31.78125 -1.421875 \r\nQ 19.734375 -1.421875 13.25 4.234375 \r\nQ 6.78125 9.90625 6.78125 20.515625 \r\nQ 6.78125 27.484375 10.78125 32.3125 \r\nQ 14.796875 37.15625 21.921875 38.8125 \r\nz\r\nM 18.3125 54.390625 \r\nQ 18.3125 48.734375 21.84375 45.5625 \r\nQ 25.390625 42.390625 31.78125 42.390625 \r\nQ 38.140625 42.390625 41.71875 45.5625 \r\nQ 45.3125 48.734375 45.3125 54.390625 \r\nQ 45.3125 60.0625 41.71875 63.234375 \r\nQ 38.140625 66.40625 31.78125 66.40625 \r\nQ 25.390625 66.40625 21.84375 63.234375 \r\nQ 18.3125 60.0625 18.3125 54.390625 \r\nz\r\n\" id=\"DejaVuSans-56\"/>\r\n      <path d=\"M 8.203125 72.90625 \r\nL 55.078125 72.90625 \r\nL 55.078125 68.703125 \r\nL 28.609375 0 \r\nL 18.3125 0 \r\nL 43.21875 64.59375 \r\nL 8.203125 64.59375 \r\nz\r\n\" id=\"DejaVuSans-55\"/>\r\n     </defs>\r\n     <use xlink:href=\"#DejaVuSans-56\"/>\r\n     <use x=\"63.623047\" xlink:href=\"#DejaVuSans-46\"/>\r\n     <use x=\"95.410156\" xlink:href=\"#DejaVuSans-55\"/>\r\n     <use x=\"159.033203\" xlink:href=\"#DejaVuSans-37\"/>\r\n    </g>\r\n   </g>\r\n  </g>\r\n </g>\r\n</svg>\r\n",
      "image/png": "[encoded data removed]"
     },
     "metadata": {}
    }
   ],
   "source": [
    "explode = (0.1, 0, 0)  \n",
    "fig1, ax1 = plt.subplots()\n",
    "ax1.pie(sizes, explode=explode, labels=labels, autopct='%1.1f%%', shadow=True, startangle=90)\n",
    "ax1.axis('equal')  \n",
    "plt.tight_layout()\n",
    "plt.show()"
   ]
  },
  {
   "cell_type": "markdown",
   "metadata": {},
   "source": [
    "### ANSWER : \n",
    "Male accounts __55.4%__ of the sale, female - __35.9%__ and FIRM - __8.7%__ ,since we cannot account the gender of FIRM, therefor we cannot proceed with gender as a point of consideration. Plus people not often buy property with their own name, wife, son it could be anyonwe."
   ]
  },
  {
   "source": [
    "### Q2. How are the properties distributed according to the geographical locations?"
   ],
   "cell_type": "markdown",
   "metadata": {}
  },
  {
   "cell_type": "code",
   "execution_count": 14,
   "metadata": {},
   "outputs": [
    {
     "output_type": "execute_result",
     "data": {
      "text/plain": [
       "array(['USA', 'UK', 'USA ', 'Belgium', 'Russia', 'Denmark', 'Germany',\n",
       "       'Mexico', 'Canada'], dtype=object)"
      ]
     },
     "metadata": {},
     "execution_count": 14
    }
   ],
   "source": [
    "# check unique values\n",
    "df_sold.country.unique()"
   ]
  },
  {
   "cell_type": "code",
   "execution_count": 15,
   "metadata": {},
   "outputs": [],
   "source": [
    "# since there are two USA, we need to rename the 'USA ' to 'USA'\n",
    "df_sold['country'].replace('USA ','USA', inplace=True)"
   ]
  },
  {
   "cell_type": "code",
   "execution_count": 16,
   "metadata": {},
   "outputs": [
    {
     "output_type": "execute_result",
     "data": {
      "text/plain": [
       "USA        177\n",
       "Canada       7\n",
       "Russia       4\n",
       "Belgium      2\n",
       "UK           2\n",
       "Mexico       1\n",
       "Denmark      1\n",
       "Germany      1\n",
       "Name: country, dtype: int64"
      ]
     },
     "metadata": {},
     "execution_count": 16
    }
   ],
   "source": [
    "# check value count for countries\n",
    "df_sold.country.value_counts()"
   ]
  },
  {
   "cell_type": "code",
   "execution_count": 17,
   "metadata": {},
   "outputs": [],
   "source": [
    "# since there are very few data points for all the countries, except USA, we would only consider USA.\n",
    "df_sold = df_sold[df_sold['country']==\"USA\"]"
   ]
  },
  {
   "cell_type": "code",
   "execution_count": 18,
   "metadata": {},
   "outputs": [
    {
     "output_type": "execute_result",
     "data": {
      "text/plain": [
       "False"
      ]
     },
     "metadata": {},
     "execution_count": 18
    }
   ],
   "source": [
    "# check for null values in state\n",
    "df_sold.state.isna().all()"
   ]
  },
  {
   "cell_type": "code",
   "execution_count": 19,
   "metadata": {},
   "outputs": [],
   "source": [
    "labels = df_sold['state'].value_counts().index.tolist()\n",
    "sizes = df_sold['state'].value_counts().values.tolist()\n",
    "for i,j in enumerate(sizes):\n",
    "    sizes[i]=sizes[i]/sum(sizes) * 100"
   ]
  },
  {
   "cell_type": "code",
   "execution_count": 20,
   "metadata": {},
   "outputs": [
    {
     "output_type": "display_data",
     "data": {
      "text/plain": "<Figure size 770.4x451.44 with 1 Axes>",
      "image/svg+xml": "<?xml version=\"1.0\" encoding=\"utf-8\" standalone=\"no\"?>\r\n<!DOCTYPE svg PUBLIC \"-//W3C//DTD SVG 1.1//EN\"\r\n  \"http://www.w3.org/Graphics/SVG/1.1/DTD/svg11.dtd\">\r\n<!-- Created with matplotlib (https://matplotlib.org/) -->\r\n<svg height=\"485.669687pt\" version=\"1.1\" viewBox=\"0 0 806.534062 485.669687\" width=\"806.534062pt\" xmlns=\"http://www.w3.org/2000/svg\" xmlns:xlink=\"http://www.w3.org/1999/xlink\">\r\n <metadata>\r\n  <rdf:RDF xmlns:cc=\"http://creativecommons.org/ns#\" xmlns:dc=\"http://purl.org/dc/elements/1.1/\" xmlns:rdf=\"http://www.w3.org/1999/02/22-rdf-syntax-ns#\">\r\n   <cc:Work>\r\n    <dc:type rdf:resource=\"http://purl.org/dc/dcmitype/StillImage\"/>\r\n    <dc:date>2020-12-06T19:20:15.231960</dc:date>\r\n    <dc:format>image/svg+xml</dc:format>\r\n    <dc:creator>\r\n     <cc:Agent>\r\n      <dc:title>Matplotlib v3.3.2, https://matplotlib.org/</dc:title>\r\n     </cc:Agent>\r\n    </dc:creator>\r\n   </cc:Work>\r\n  </rdf:RDF>\r\n </metadata>\r\n <defs>\r\n  <style type=\"text/css\">*{stroke-linecap:butt;stroke-linejoin:round;}</style>\r\n </defs>\r\n <g id=\"figure_1\">\r\n  <g id=\"patch_1\">\r\n   <path d=\"M 0 485.669687 \r\nL 806.534062 485.669687 \r\nL 806.534062 0 \r\nL 0 0 \r\nz\r\n\" style=\"fill:#ffffff;\"/>\r\n  </g>\r\n  <g id=\"axes_1\">\r\n   <g id=\"patch_2\">\r\n    <path d=\"M 28.934062 458.64 \r\nL 799.334062 458.64 \r\nL 799.334062 7.2 \r\nL 28.934062 7.2 \r\nz\r\n\" style=\"fill:#eaeaf2;\"/>\r\n   </g>\r\n   <g id=\"matplotlib.axis_1\">\r\n    <g id=\"xtick_1\">\r\n     <g id=\"line2d_1\">\r\n      <path clip-path=\"url(#p898411d1a3)\" d=\"M 95.786955 458.64 \r\nL 95.786955 7.2 \r\n\" style=\"fill:none;stroke:#ffffff;stroke-linecap:round;\"/>\r\n     </g>\r\n     <g id=\"text_1\">\r\n      <!-- California -->\r\n      <g style=\"fill:#262626;\" transform=\"translate(72.555471 476.013594)scale(0.11 -0.11)\">\r\n       <defs>\r\n        <path d=\"M 58.796875 25.09375 \r\nL 68.265625 22.703125 \r\nQ 65.28125 11.03125 57.546875 4.90625 \r\nQ 49.8125 -1.21875 38.625 -1.21875 \r\nQ 27.046875 -1.21875 19.796875 3.484375 \r\nQ 12.546875 8.203125 8.765625 17.140625 \r\nQ 4.984375 26.078125 4.984375 36.328125 \r\nQ 4.984375 47.515625 9.25 55.828125 \r\nQ 13.53125 64.15625 21.40625 68.46875 \r\nQ 29.296875 72.796875 38.765625 72.796875 \r\nQ 49.515625 72.796875 56.828125 67.328125 \r\nQ 64.15625 61.859375 67.046875 51.953125 \r\nL 57.71875 49.75 \r\nQ 55.21875 57.5625 50.484375 61.125 \r\nQ 45.75 64.703125 38.578125 64.703125 \r\nQ 30.328125 64.703125 24.78125 60.734375 \r\nQ 19.234375 56.78125 16.984375 50.109375 \r\nQ 14.75 43.453125 14.75 36.375 \r\nQ 14.75 27.25 17.40625 20.4375 \r\nQ 20.0625 13.625 25.671875 10.25 \r\nQ 31.296875 6.890625 37.84375 6.890625 \r\nQ 45.796875 6.890625 51.3125 11.46875 \r\nQ 56.84375 16.0625 58.796875 25.09375 \r\nz\r\n\" id=\"ArialMT-67\"/>\r\n        <path d=\"M 40.4375 6.390625 \r\nQ 35.546875 2.25 31.03125 0.53125 \r\nQ 26.515625 -1.171875 21.34375 -1.171875 \r\nQ 12.796875 -1.171875 8.203125 3 \r\nQ 3.609375 7.171875 3.609375 13.671875 \r\nQ 3.609375 17.484375 5.34375 20.625 \r\nQ 7.078125 23.78125 9.890625 25.6875 \r\nQ 12.703125 27.59375 16.21875 28.5625 \r\nQ 18.796875 29.25 24.03125 29.890625 \r\nQ 34.671875 31.15625 39.703125 32.90625 \r\nQ 39.75 34.71875 39.75 35.203125 \r\nQ 39.75 40.578125 37.25 42.78125 \r\nQ 33.890625 45.75 27.25 45.75 \r\nQ 21.046875 45.75 18.09375 43.578125 \r\nQ 15.140625 41.40625 13.71875 35.890625 \r\nL 5.125 37.0625 \r\nQ 6.296875 42.578125 8.984375 45.96875 \r\nQ 11.671875 49.359375 16.75 51.1875 \r\nQ 21.828125 53.03125 28.515625 53.03125 \r\nQ 35.15625 53.03125 39.296875 51.46875 \r\nQ 43.453125 49.90625 45.40625 47.53125 \r\nQ 47.359375 45.171875 48.140625 41.546875 \r\nQ 48.578125 39.3125 48.578125 33.453125 \r\nL 48.578125 21.734375 \r\nQ 48.578125 9.46875 49.140625 6.21875 \r\nQ 49.703125 2.984375 51.375 0 \r\nL 42.1875 0 \r\nQ 40.828125 2.734375 40.4375 6.390625 \r\nz\r\nM 39.703125 26.03125 \r\nQ 34.90625 24.078125 25.34375 22.703125 \r\nQ 19.921875 21.921875 17.671875 20.9375 \r\nQ 15.4375 19.96875 14.203125 18.09375 \r\nQ 12.984375 16.21875 12.984375 13.921875 \r\nQ 12.984375 10.40625 15.640625 8.0625 \r\nQ 18.3125 5.71875 23.4375 5.71875 \r\nQ 28.515625 5.71875 32.46875 7.9375 \r\nQ 36.421875 10.15625 38.28125 14.015625 \r\nQ 39.703125 17 39.703125 22.796875 \r\nz\r\n\" id=\"ArialMT-97\"/>\r\n        <path d=\"M 6.390625 0 \r\nL 6.390625 71.578125 \r\nL 15.1875 71.578125 \r\nL 15.1875 0 \r\nz\r\n\" id=\"ArialMT-108\"/>\r\n        <path d=\"M 6.640625 61.46875 \r\nL 6.640625 71.578125 \r\nL 15.4375 71.578125 \r\nL 15.4375 61.46875 \r\nz\r\nM 6.640625 0 \r\nL 6.640625 51.859375 \r\nL 15.4375 51.859375 \r\nL 15.4375 0 \r\nz\r\n\" id=\"ArialMT-105\"/>\r\n        <path d=\"M 8.6875 0 \r\nL 8.6875 45.015625 \r\nL 0.921875 45.015625 \r\nL 0.921875 51.859375 \r\nL 8.6875 51.859375 \r\nL 8.6875 57.375 \r\nQ 8.6875 62.59375 9.625 65.140625 \r\nQ 10.890625 68.5625 14.078125 70.671875 \r\nQ 17.28125 72.796875 23.046875 72.796875 \r\nQ 26.765625 72.796875 31.25 71.921875 \r\nL 29.9375 64.265625 \r\nQ 27.203125 64.75 24.75 64.75 \r\nQ 20.75 64.75 19.09375 63.03125 \r\nQ 17.4375 61.328125 17.4375 56.640625 \r\nL 17.4375 51.859375 \r\nL 27.546875 51.859375 \r\nL 27.546875 45.015625 \r\nL 17.4375 45.015625 \r\nL 17.4375 0 \r\nz\r\n\" id=\"ArialMT-102\"/>\r\n        <path d=\"M 3.328125 25.921875 \r\nQ 3.328125 40.328125 11.328125 47.265625 \r\nQ 18.015625 53.03125 27.640625 53.03125 \r\nQ 38.328125 53.03125 45.109375 46.015625 \r\nQ 51.90625 39.015625 51.90625 26.65625 \r\nQ 51.90625 16.65625 48.90625 10.90625 \r\nQ 45.90625 5.171875 40.15625 2 \r\nQ 34.421875 -1.171875 27.640625 -1.171875 \r\nQ 16.75 -1.171875 10.03125 5.8125 \r\nQ 3.328125 12.796875 3.328125 25.921875 \r\nz\r\nM 12.359375 25.921875 \r\nQ 12.359375 15.96875 16.703125 11.015625 \r\nQ 21.046875 6.0625 27.640625 6.0625 \r\nQ 34.1875 6.0625 38.53125 11.03125 \r\nQ 42.875 16.015625 42.875 26.21875 \r\nQ 42.875 35.84375 38.5 40.796875 \r\nQ 34.125 45.75 27.640625 45.75 \r\nQ 21.046875 45.75 16.703125 40.8125 \r\nQ 12.359375 35.890625 12.359375 25.921875 \r\nz\r\n\" id=\"ArialMT-111\"/>\r\n        <path d=\"M 6.5 0 \r\nL 6.5 51.859375 \r\nL 14.40625 51.859375 \r\nL 14.40625 44 \r\nQ 17.4375 49.515625 20 51.265625 \r\nQ 22.5625 53.03125 25.640625 53.03125 \r\nQ 30.078125 53.03125 34.671875 50.203125 \r\nL 31.640625 42.046875 \r\nQ 28.421875 43.953125 25.203125 43.953125 \r\nQ 22.3125 43.953125 20.015625 42.21875 \r\nQ 17.71875 40.484375 16.75 37.40625 \r\nQ 15.28125 32.71875 15.28125 27.15625 \r\nL 15.28125 0 \r\nz\r\n\" id=\"ArialMT-114\"/>\r\n        <path d=\"M 6.59375 0 \r\nL 6.59375 51.859375 \r\nL 14.5 51.859375 \r\nL 14.5 44.484375 \r\nQ 20.21875 53.03125 31 53.03125 \r\nQ 35.6875 53.03125 39.625 51.34375 \r\nQ 43.5625 49.65625 45.515625 46.921875 \r\nQ 47.46875 44.1875 48.25 40.4375 \r\nQ 48.734375 37.984375 48.734375 31.890625 \r\nL 48.734375 0 \r\nL 39.9375 0 \r\nL 39.9375 31.546875 \r\nQ 39.9375 36.921875 38.90625 39.578125 \r\nQ 37.890625 42.234375 35.28125 43.8125 \r\nQ 32.671875 45.40625 29.15625 45.40625 \r\nQ 23.53125 45.40625 19.453125 41.84375 \r\nQ 15.375 38.28125 15.375 28.328125 \r\nL 15.375 0 \r\nz\r\n\" id=\"ArialMT-110\"/>\r\n       </defs>\r\n       <use xlink:href=\"#ArialMT-67\"/>\r\n       <use x=\"72.216797\" xlink:href=\"#ArialMT-97\"/>\r\n       <use x=\"127.832031\" xlink:href=\"#ArialMT-108\"/>\r\n       <use x=\"150.048828\" xlink:href=\"#ArialMT-105\"/>\r\n       <use x=\"172.265625\" xlink:href=\"#ArialMT-102\"/>\r\n       <use x=\"200.048828\" xlink:href=\"#ArialMT-111\"/>\r\n       <use x=\"255.664062\" xlink:href=\"#ArialMT-114\"/>\r\n       <use x=\"288.964844\" xlink:href=\"#ArialMT-110\"/>\r\n       <use x=\"344.580078\" xlink:href=\"#ArialMT-105\"/>\r\n       <use x=\"366.796875\" xlink:href=\"#ArialMT-97\"/>\r\n      </g>\r\n     </g>\r\n    </g>\r\n    <g id=\"xtick_2\">\r\n     <g id=\"line2d_2\">\r\n      <path clip-path=\"url(#p898411d1a3)\" d=\"M 175.373732 458.64 \r\nL 175.373732 7.2 \r\n\" style=\"fill:none;stroke:#ffffff;stroke-linecap:round;\"/>\r\n     </g>\r\n     <g id=\"text_2\">\r\n      <!-- Nevada -->\r\n      <g style=\"fill:#262626;\" transform=\"translate(156.417638 476.013594)scale(0.11 -0.11)\">\r\n       <defs>\r\n        <path d=\"M 7.625 0 \r\nL 7.625 71.578125 \r\nL 17.328125 71.578125 \r\nL 54.9375 15.375 \r\nL 54.9375 71.578125 \r\nL 64.015625 71.578125 \r\nL 64.015625 0 \r\nL 54.296875 0 \r\nL 16.703125 56.25 \r\nL 16.703125 0 \r\nz\r\n\" id=\"ArialMT-78\"/>\r\n        <path d=\"M 42.09375 16.703125 \r\nL 51.171875 15.578125 \r\nQ 49.03125 7.625 43.21875 3.21875 \r\nQ 37.40625 -1.171875 28.375 -1.171875 \r\nQ 17 -1.171875 10.328125 5.828125 \r\nQ 3.65625 12.84375 3.65625 25.484375 \r\nQ 3.65625 38.578125 10.390625 45.796875 \r\nQ 17.140625 53.03125 27.875 53.03125 \r\nQ 38.28125 53.03125 44.875 45.953125 \r\nQ 51.46875 38.875 51.46875 26.03125 \r\nQ 51.46875 25.25 51.421875 23.6875 \r\nL 12.75 23.6875 \r\nQ 13.234375 15.140625 17.578125 10.59375 \r\nQ 21.921875 6.0625 28.421875 6.0625 \r\nQ 33.25 6.0625 36.671875 8.59375 \r\nQ 40.09375 11.140625 42.09375 16.703125 \r\nz\r\nM 13.234375 30.90625 \r\nL 42.1875 30.90625 \r\nQ 41.609375 37.453125 38.875 40.71875 \r\nQ 34.671875 45.796875 27.984375 45.796875 \r\nQ 21.921875 45.796875 17.796875 41.75 \r\nQ 13.671875 37.703125 13.234375 30.90625 \r\nz\r\n\" id=\"ArialMT-101\"/>\r\n        <path d=\"M 21 0 \r\nL 1.265625 51.859375 \r\nL 10.546875 51.859375 \r\nL 21.6875 20.796875 \r\nQ 23.484375 15.765625 25 10.359375 \r\nQ 26.171875 14.453125 28.265625 20.21875 \r\nL 39.796875 51.859375 \r\nL 48.828125 51.859375 \r\nL 29.203125 0 \r\nz\r\n\" id=\"ArialMT-118\"/>\r\n        <path d=\"M 40.234375 0 \r\nL 40.234375 6.546875 \r\nQ 35.296875 -1.171875 25.734375 -1.171875 \r\nQ 19.53125 -1.171875 14.328125 2.25 \r\nQ 9.125 5.671875 6.265625 11.796875 \r\nQ 3.421875 17.921875 3.421875 25.875 \r\nQ 3.421875 33.640625 6 39.96875 \r\nQ 8.59375 46.296875 13.765625 49.65625 \r\nQ 18.953125 53.03125 25.34375 53.03125 \r\nQ 30.03125 53.03125 33.6875 51.046875 \r\nQ 37.359375 49.078125 39.65625 45.90625 \r\nL 39.65625 71.578125 \r\nL 48.390625 71.578125 \r\nL 48.390625 0 \r\nz\r\nM 12.453125 25.875 \r\nQ 12.453125 15.921875 16.640625 10.984375 \r\nQ 20.84375 6.0625 26.5625 6.0625 \r\nQ 32.328125 6.0625 36.34375 10.765625 \r\nQ 40.375 15.484375 40.375 25.140625 \r\nQ 40.375 35.796875 36.265625 40.765625 \r\nQ 32.171875 45.75 26.171875 45.75 \r\nQ 20.3125 45.75 16.375 40.96875 \r\nQ 12.453125 36.1875 12.453125 25.875 \r\nz\r\n\" id=\"ArialMT-100\"/>\r\n       </defs>\r\n       <use xlink:href=\"#ArialMT-78\"/>\r\n       <use x=\"72.216797\" xlink:href=\"#ArialMT-101\"/>\r\n       <use x=\"127.832031\" xlink:href=\"#ArialMT-118\"/>\r\n       <use x=\"177.832031\" xlink:href=\"#ArialMT-97\"/>\r\n       <use x=\"233.447266\" xlink:href=\"#ArialMT-100\"/>\r\n       <use x=\"289.0625\" xlink:href=\"#ArialMT-97\"/>\r\n      </g>\r\n     </g>\r\n    </g>\r\n    <g id=\"xtick_3\">\r\n     <g id=\"line2d_3\">\r\n      <path clip-path=\"url(#p898411d1a3)\" d=\"M 254.960509 458.64 \r\nL 254.960509 7.2 \r\n\" style=\"fill:none;stroke:#ffffff;stroke-linecap:round;\"/>\r\n     </g>\r\n     <g id=\"text_3\">\r\n      <!-- Colorado -->\r\n      <g style=\"fill:#262626;\" transform=\"translate(232.64254 476.013594)scale(0.11 -0.11)\">\r\n       <use xlink:href=\"#ArialMT-67\"/>\r\n       <use x=\"72.216797\" xlink:href=\"#ArialMT-111\"/>\r\n       <use x=\"127.832031\" xlink:href=\"#ArialMT-108\"/>\r\n       <use x=\"150.048828\" xlink:href=\"#ArialMT-111\"/>\r\n       <use x=\"205.664062\" xlink:href=\"#ArialMT-114\"/>\r\n       <use x=\"238.964844\" xlink:href=\"#ArialMT-97\"/>\r\n       <use x=\"294.580078\" xlink:href=\"#ArialMT-100\"/>\r\n       <use x=\"350.195312\" xlink:href=\"#ArialMT-111\"/>\r\n      </g>\r\n     </g>\r\n    </g>\r\n    <g id=\"xtick_4\">\r\n     <g id=\"line2d_4\">\r\n      <path clip-path=\"url(#p898411d1a3)\" d=\"M 334.547286 458.64 \r\nL 334.547286 7.2 \r\n\" style=\"fill:none;stroke:#ffffff;stroke-linecap:round;\"/>\r\n     </g>\r\n     <g id=\"text_4\">\r\n      <!-- Oregon -->\r\n      <g style=\"fill:#262626;\" transform=\"translate(316.203926 476.154531)scale(0.11 -0.11)\">\r\n       <defs>\r\n        <path d=\"M 4.828125 34.859375 \r\nQ 4.828125 52.6875 14.390625 62.765625 \r\nQ 23.96875 72.859375 39.109375 72.859375 \r\nQ 49.03125 72.859375 56.984375 68.109375 \r\nQ 64.9375 63.375 69.109375 54.90625 \r\nQ 73.296875 46.4375 73.296875 35.6875 \r\nQ 73.296875 24.8125 68.890625 16.21875 \r\nQ 64.5 7.625 56.4375 3.203125 \r\nQ 48.390625 -1.21875 39.0625 -1.21875 \r\nQ 28.953125 -1.21875 20.984375 3.65625 \r\nQ 13.03125 8.546875 8.921875 16.984375 \r\nQ 4.828125 25.4375 4.828125 34.859375 \r\nz\r\nM 14.59375 34.71875 \r\nQ 14.59375 21.78125 21.546875 14.328125 \r\nQ 28.515625 6.890625 39.015625 6.890625 \r\nQ 49.703125 6.890625 56.609375 14.40625 \r\nQ 63.53125 21.921875 63.53125 35.75 \r\nQ 63.53125 44.484375 60.578125 51 \r\nQ 57.625 57.515625 51.921875 61.109375 \r\nQ 46.234375 64.703125 39.15625 64.703125 \r\nQ 29.109375 64.703125 21.84375 57.78125 \r\nQ 14.59375 50.875 14.59375 34.71875 \r\nz\r\n\" id=\"ArialMT-79\"/>\r\n        <path d=\"M 4.984375 -4.296875 \r\nL 13.53125 -5.5625 \r\nQ 14.0625 -9.515625 16.5 -11.328125 \r\nQ 19.78125 -13.765625 25.4375 -13.765625 \r\nQ 31.546875 -13.765625 34.859375 -11.328125 \r\nQ 38.1875 -8.890625 39.359375 -4.5 \r\nQ 40.046875 -1.8125 39.984375 6.78125 \r\nQ 34.234375 0 25.640625 0 \r\nQ 14.9375 0 9.078125 7.71875 \r\nQ 3.21875 15.4375 3.21875 26.21875 \r\nQ 3.21875 33.640625 5.90625 39.90625 \r\nQ 8.59375 46.1875 13.6875 49.609375 \r\nQ 18.796875 53.03125 25.6875 53.03125 \r\nQ 34.859375 53.03125 40.828125 45.609375 \r\nL 40.828125 51.859375 \r\nL 48.921875 51.859375 \r\nL 48.921875 7.03125 \r\nQ 48.921875 -5.078125 46.453125 -10.125 \r\nQ 44 -15.1875 38.640625 -18.109375 \r\nQ 33.296875 -21.046875 25.484375 -21.046875 \r\nQ 16.21875 -21.046875 10.5 -16.875 \r\nQ 4.78125 -12.703125 4.984375 -4.296875 \r\nz\r\nM 12.25 26.859375 \r\nQ 12.25 16.65625 16.296875 11.96875 \r\nQ 20.359375 7.28125 26.46875 7.28125 \r\nQ 32.515625 7.28125 36.609375 11.9375 \r\nQ 40.71875 16.609375 40.71875 26.5625 \r\nQ 40.71875 36.078125 36.5 40.90625 \r\nQ 32.28125 45.75 26.3125 45.75 \r\nQ 20.453125 45.75 16.34375 40.984375 \r\nQ 12.25 36.234375 12.25 26.859375 \r\nz\r\n\" id=\"ArialMT-103\"/>\r\n       </defs>\r\n       <use xlink:href=\"#ArialMT-79\"/>\r\n       <use x=\"77.783203\" xlink:href=\"#ArialMT-114\"/>\r\n       <use x=\"111.083984\" xlink:href=\"#ArialMT-101\"/>\r\n       <use x=\"166.699219\" xlink:href=\"#ArialMT-103\"/>\r\n       <use x=\"222.314453\" xlink:href=\"#ArialMT-111\"/>\r\n       <use x=\"277.929688\" xlink:href=\"#ArialMT-110\"/>\r\n      </g>\r\n     </g>\r\n    </g>\r\n    <g id=\"xtick_5\">\r\n     <g id=\"line2d_5\">\r\n      <path clip-path=\"url(#p898411d1a3)\" d=\"M 414.134062 458.64 \r\nL 414.134062 7.2 \r\n\" style=\"fill:none;stroke:#ffffff;stroke-linecap:round;\"/>\r\n     </g>\r\n     <g id=\"text_5\">\r\n      <!-- Arizona -->\r\n      <g style=\"fill:#262626;\" transform=\"translate(395.486484 476.013594)scale(0.11 -0.11)\">\r\n       <defs>\r\n        <path d=\"M -0.140625 0 \r\nL 27.34375 71.578125 \r\nL 37.546875 71.578125 \r\nL 66.84375 0 \r\nL 56.0625 0 \r\nL 47.703125 21.6875 \r\nL 17.78125 21.6875 \r\nL 9.90625 0 \r\nz\r\nM 20.515625 29.390625 \r\nL 44.78125 29.390625 \r\nL 37.3125 49.21875 \r\nQ 33.890625 58.25 32.234375 64.0625 \r\nQ 30.859375 57.171875 28.375 50.390625 \r\nz\r\n\" id=\"ArialMT-65\"/>\r\n        <path d=\"M 1.953125 0 \r\nL 1.953125 7.125 \r\nL 34.96875 45.015625 \r\nQ 29.34375 44.734375 25.046875 44.734375 \r\nL 3.90625 44.734375 \r\nL 3.90625 51.859375 \r\nL 46.296875 51.859375 \r\nL 46.296875 46.046875 \r\nL 18.21875 13.140625 \r\nL 12.796875 7.125 \r\nQ 18.703125 7.5625 23.875 7.5625 \r\nL 47.859375 7.5625 \r\nL 47.859375 0 \r\nz\r\n\" id=\"ArialMT-122\"/>\r\n       </defs>\r\n       <use xlink:href=\"#ArialMT-65\"/>\r\n       <use x=\"66.699219\" xlink:href=\"#ArialMT-114\"/>\r\n       <use x=\"100\" xlink:href=\"#ArialMT-105\"/>\r\n       <use x=\"122.216797\" xlink:href=\"#ArialMT-122\"/>\r\n       <use x=\"172.216797\" xlink:href=\"#ArialMT-111\"/>\r\n       <use x=\"227.832031\" xlink:href=\"#ArialMT-110\"/>\r\n       <use x=\"283.447266\" xlink:href=\"#ArialMT-97\"/>\r\n      </g>\r\n     </g>\r\n    </g>\r\n    <g id=\"xtick_6\">\r\n     <g id=\"line2d_6\">\r\n      <path clip-path=\"url(#p898411d1a3)\" d=\"M 493.720839 458.64 \r\nL 493.720839 7.2 \r\n\" style=\"fill:none;stroke:#ffffff;stroke-linecap:round;\"/>\r\n     </g>\r\n     <g id=\"text_6\">\r\n      <!-- Utah -->\r\n      <g style=\"fill:#262626;\" transform=\"translate(482.103808 476.013594)scale(0.11 -0.11)\">\r\n       <defs>\r\n        <path d=\"M 54.6875 71.578125 \r\nL 64.15625 71.578125 \r\nL 64.15625 30.21875 \r\nQ 64.15625 19.4375 61.71875 13.078125 \r\nQ 59.28125 6.734375 52.90625 2.75 \r\nQ 46.53125 -1.21875 36.1875 -1.21875 \r\nQ 26.125 -1.21875 19.71875 2.25 \r\nQ 13.328125 5.71875 10.59375 12.28125 \r\nQ 7.859375 18.84375 7.859375 30.21875 \r\nL 7.859375 71.578125 \r\nL 17.328125 71.578125 \r\nL 17.328125 30.28125 \r\nQ 17.328125 20.953125 19.0625 16.53125 \r\nQ 20.796875 12.109375 25.015625 9.71875 \r\nQ 29.25 7.328125 35.359375 7.328125 \r\nQ 45.796875 7.328125 50.234375 12.0625 \r\nQ 54.6875 16.796875 54.6875 30.28125 \r\nz\r\n\" id=\"ArialMT-85\"/>\r\n        <path d=\"M 25.78125 7.859375 \r\nL 27.046875 0.09375 \r\nQ 23.34375 -0.6875 20.40625 -0.6875 \r\nQ 15.625 -0.6875 12.984375 0.828125 \r\nQ 10.359375 2.34375 9.28125 4.8125 \r\nQ 8.203125 7.28125 8.203125 15.1875 \r\nL 8.203125 45.015625 \r\nL 1.765625 45.015625 \r\nL 1.765625 51.859375 \r\nL 8.203125 51.859375 \r\nL 8.203125 64.703125 \r\nL 16.9375 69.96875 \r\nL 16.9375 51.859375 \r\nL 25.78125 51.859375 \r\nL 25.78125 45.015625 \r\nL 16.9375 45.015625 \r\nL 16.9375 14.703125 \r\nQ 16.9375 10.9375 17.40625 9.859375 \r\nQ 17.875 8.796875 18.921875 8.15625 \r\nQ 19.96875 7.515625 21.921875 7.515625 \r\nQ 23.390625 7.515625 25.78125 7.859375 \r\nz\r\n\" id=\"ArialMT-116\"/>\r\n        <path d=\"M 6.59375 0 \r\nL 6.59375 71.578125 \r\nL 15.375 71.578125 \r\nL 15.375 45.90625 \r\nQ 21.53125 53.03125 30.90625 53.03125 \r\nQ 36.671875 53.03125 40.921875 50.75 \r\nQ 45.171875 48.484375 47 44.484375 \r\nQ 48.828125 40.484375 48.828125 32.859375 \r\nL 48.828125 0 \r\nL 40.046875 0 \r\nL 40.046875 32.859375 \r\nQ 40.046875 39.453125 37.1875 42.453125 \r\nQ 34.328125 45.453125 29.109375 45.453125 \r\nQ 25.203125 45.453125 21.75 43.421875 \r\nQ 18.3125 41.40625 16.84375 37.9375 \r\nQ 15.375 34.46875 15.375 28.375 \r\nL 15.375 0 \r\nz\r\n\" id=\"ArialMT-104\"/>\r\n       </defs>\r\n       <use xlink:href=\"#ArialMT-85\"/>\r\n       <use x=\"72.216797\" xlink:href=\"#ArialMT-116\"/>\r\n       <use x=\"100\" xlink:href=\"#ArialMT-97\"/>\r\n       <use x=\"155.615234\" xlink:href=\"#ArialMT-104\"/>\r\n      </g>\r\n     </g>\r\n    </g>\r\n    <g id=\"xtick_7\">\r\n     <g id=\"line2d_7\">\r\n      <path clip-path=\"url(#p898411d1a3)\" d=\"M 573.307616 458.64 \r\nL 573.307616 7.2 \r\n\" style=\"fill:none;stroke:#ffffff;stroke-linecap:round;\"/>\r\n     </g>\r\n     <g id=\"text_7\">\r\n      <!-- Virginia -->\r\n      <g style=\"fill:#262626;\" transform=\"translate(555.062226 476.013594)scale(0.11 -0.11)\">\r\n       <defs>\r\n        <path d=\"M 28.171875 0 \r\nL 0.4375 71.578125 \r\nL 10.6875 71.578125 \r\nL 29.296875 19.578125 \r\nQ 31.546875 13.328125 33.0625 7.859375 \r\nQ 34.71875 13.71875 36.921875 19.578125 \r\nL 56.25 71.578125 \r\nL 65.921875 71.578125 \r\nL 37.890625 0 \r\nz\r\n\" id=\"ArialMT-86\"/>\r\n       </defs>\r\n       <use xlink:href=\"#ArialMT-86\"/>\r\n       <use x=\"64.949219\" xlink:href=\"#ArialMT-105\"/>\r\n       <use x=\"87.166016\" xlink:href=\"#ArialMT-114\"/>\r\n       <use x=\"120.466797\" xlink:href=\"#ArialMT-103\"/>\r\n       <use x=\"176.082031\" xlink:href=\"#ArialMT-105\"/>\r\n       <use x=\"198.298828\" xlink:href=\"#ArialMT-110\"/>\r\n       <use x=\"253.914062\" xlink:href=\"#ArialMT-105\"/>\r\n       <use x=\"276.130859\" xlink:href=\"#ArialMT-97\"/>\r\n      </g>\r\n     </g>\r\n    </g>\r\n    <g id=\"xtick_8\">\r\n     <g id=\"line2d_8\">\r\n      <path clip-path=\"url(#p898411d1a3)\" d=\"M 652.894393 458.64 \r\nL 652.894393 7.2 \r\n\" style=\"fill:none;stroke:#ffffff;stroke-linecap:round;\"/>\r\n     </g>\r\n     <g id=\"text_8\">\r\n      <!-- Kansas -->\r\n      <g style=\"fill:#262626;\" transform=\"translate(634.550174 476.013594)scale(0.11 -0.11)\">\r\n       <defs>\r\n        <path d=\"M 7.328125 0 \r\nL 7.328125 71.578125 \r\nL 16.796875 71.578125 \r\nL 16.796875 36.078125 \r\nL 52.34375 71.578125 \r\nL 65.1875 71.578125 \r\nL 35.15625 42.578125 \r\nL 66.5 0 \r\nL 54 0 \r\nL 28.515625 36.234375 \r\nL 16.796875 24.8125 \r\nL 16.796875 0 \r\nz\r\n\" id=\"ArialMT-75\"/>\r\n        <path d=\"M 3.078125 15.484375 \r\nL 11.765625 16.84375 \r\nQ 12.5 11.625 15.84375 8.84375 \r\nQ 19.1875 6.0625 25.203125 6.0625 \r\nQ 31.25 6.0625 34.171875 8.515625 \r\nQ 37.109375 10.984375 37.109375 14.3125 \r\nQ 37.109375 17.28125 34.515625 19 \r\nQ 32.71875 20.171875 25.53125 21.96875 \r\nQ 15.875 24.421875 12.140625 26.203125 \r\nQ 8.40625 27.984375 6.46875 31.125 \r\nQ 4.546875 34.28125 4.546875 38.09375 \r\nQ 4.546875 41.546875 6.125 44.5 \r\nQ 7.71875 47.46875 10.453125 49.421875 \r\nQ 12.5 50.921875 16.03125 51.96875 \r\nQ 19.578125 53.03125 23.640625 53.03125 \r\nQ 29.734375 53.03125 34.34375 51.265625 \r\nQ 38.96875 49.515625 41.15625 46.5 \r\nQ 43.359375 43.5 44.1875 38.484375 \r\nL 35.59375 37.3125 \r\nQ 35.015625 41.3125 32.203125 43.546875 \r\nQ 29.390625 45.796875 24.265625 45.796875 \r\nQ 18.21875 45.796875 15.625 43.796875 \r\nQ 13.03125 41.796875 13.03125 39.109375 \r\nQ 13.03125 37.40625 14.109375 36.03125 \r\nQ 15.1875 34.625 17.484375 33.6875 \r\nQ 18.796875 33.203125 25.25 31.453125 \r\nQ 34.578125 28.953125 38.25 27.359375 \r\nQ 41.9375 25.78125 44.03125 22.75 \r\nQ 46.140625 19.734375 46.140625 15.234375 \r\nQ 46.140625 10.84375 43.578125 6.953125 \r\nQ 41.015625 3.078125 36.171875 0.953125 \r\nQ 31.34375 -1.171875 25.25 -1.171875 \r\nQ 15.140625 -1.171875 9.84375 3.03125 \r\nQ 4.546875 7.234375 3.078125 15.484375 \r\nz\r\n\" id=\"ArialMT-115\"/>\r\n       </defs>\r\n       <use xlink:href=\"#ArialMT-75\"/>\r\n       <use x=\"66.699219\" xlink:href=\"#ArialMT-97\"/>\r\n       <use x=\"122.314453\" xlink:href=\"#ArialMT-110\"/>\r\n       <use x=\"177.929688\" xlink:href=\"#ArialMT-115\"/>\r\n       <use x=\"227.929688\" xlink:href=\"#ArialMT-97\"/>\r\n       <use x=\"283.544922\" xlink:href=\"#ArialMT-115\"/>\r\n      </g>\r\n     </g>\r\n    </g>\r\n    <g id=\"xtick_9\">\r\n     <g id=\"line2d_9\">\r\n      <path clip-path=\"url(#p898411d1a3)\" d=\"M 732.48117 458.64 \r\nL 732.48117 7.2 \r\n\" style=\"fill:none;stroke:#ffffff;stroke-linecap:round;\"/>\r\n     </g>\r\n     <g id=\"text_9\">\r\n      <!-- Wyoming -->\r\n      <g style=\"fill:#262626;\" transform=\"translate(709.608904 476.013594)scale(0.11 -0.11)\">\r\n       <defs>\r\n        <path d=\"M 20.21875 0 \r\nL 1.21875 71.578125 \r\nL 10.9375 71.578125 \r\nL 21.828125 24.65625 \r\nQ 23.578125 17.28125 24.859375 10.015625 \r\nQ 27.59375 21.484375 28.078125 23.25 \r\nL 41.703125 71.578125 \r\nL 53.125 71.578125 \r\nL 63.375 35.359375 \r\nQ 67.234375 21.875 68.953125 10.015625 \r\nQ 70.3125 16.796875 72.515625 25.59375 \r\nL 83.734375 71.578125 \r\nL 93.265625 71.578125 \r\nL 73.640625 0 \r\nL 64.5 0 \r\nL 49.421875 54.546875 \r\nQ 47.515625 61.375 47.171875 62.9375 \r\nQ 46.046875 58.015625 45.0625 54.546875 \r\nL 29.890625 0 \r\nz\r\n\" id=\"ArialMT-87\"/>\r\n        <path d=\"M 6.203125 -19.96875 \r\nL 5.21875 -11.71875 \r\nQ 8.109375 -12.5 10.25 -12.5 \r\nQ 13.1875 -12.5 14.9375 -11.515625 \r\nQ 16.703125 -10.546875 17.828125 -8.796875 \r\nQ 18.65625 -7.46875 20.515625 -2.25 \r\nQ 20.75 -1.515625 21.296875 -0.09375 \r\nL 1.609375 51.859375 \r\nL 11.078125 51.859375 \r\nL 21.875 21.828125 \r\nQ 23.96875 16.109375 25.640625 9.8125 \r\nQ 27.15625 15.875 29.25 21.625 \r\nL 40.328125 51.859375 \r\nL 49.125 51.859375 \r\nL 29.390625 -0.875 \r\nQ 26.21875 -9.421875 24.46875 -12.640625 \r\nQ 22.125 -17 19.09375 -19.015625 \r\nQ 16.0625 -21.046875 11.859375 -21.046875 \r\nQ 9.328125 -21.046875 6.203125 -19.96875 \r\nz\r\n\" id=\"ArialMT-121\"/>\r\n        <path d=\"M 6.59375 0 \r\nL 6.59375 51.859375 \r\nL 14.453125 51.859375 \r\nL 14.453125 44.578125 \r\nQ 16.890625 48.390625 20.9375 50.703125 \r\nQ 25 53.03125 30.171875 53.03125 \r\nQ 35.9375 53.03125 39.625 50.640625 \r\nQ 43.3125 48.25 44.828125 43.953125 \r\nQ 50.984375 53.03125 60.84375 53.03125 \r\nQ 68.5625 53.03125 72.703125 48.75 \r\nQ 76.859375 44.484375 76.859375 35.59375 \r\nL 76.859375 0 \r\nL 68.109375 0 \r\nL 68.109375 32.671875 \r\nQ 68.109375 37.9375 67.25 40.25 \r\nQ 66.40625 42.578125 64.15625 43.984375 \r\nQ 61.921875 45.40625 58.890625 45.40625 \r\nQ 53.421875 45.40625 49.796875 41.765625 \r\nQ 46.1875 38.140625 46.1875 30.125 \r\nL 46.1875 0 \r\nL 37.40625 0 \r\nL 37.40625 33.6875 \r\nQ 37.40625 39.546875 35.25 42.46875 \r\nQ 33.109375 45.40625 28.21875 45.40625 \r\nQ 24.515625 45.40625 21.359375 43.453125 \r\nQ 18.21875 41.5 16.796875 37.734375 \r\nQ 15.375 33.984375 15.375 26.90625 \r\nL 15.375 0 \r\nz\r\n\" id=\"ArialMT-109\"/>\r\n       </defs>\r\n       <use xlink:href=\"#ArialMT-87\"/>\r\n       <use x=\"93.509766\" xlink:href=\"#ArialMT-121\"/>\r\n       <use x=\"143.509766\" xlink:href=\"#ArialMT-111\"/>\r\n       <use x=\"199.125\" xlink:href=\"#ArialMT-109\"/>\r\n       <use x=\"282.425781\" xlink:href=\"#ArialMT-105\"/>\r\n       <use x=\"304.642578\" xlink:href=\"#ArialMT-110\"/>\r\n       <use x=\"360.257812\" xlink:href=\"#ArialMT-103\"/>\r\n      </g>\r\n     </g>\r\n    </g>\r\n   </g>\r\n   <g id=\"matplotlib.axis_2\">\r\n    <g id=\"ytick_1\">\r\n     <g id=\"line2d_10\">\r\n      <path clip-path=\"url(#p898411d1a3)\" d=\"M 28.934062 458.64 \r\nL 799.334062 458.64 \r\n\" style=\"fill:none;stroke:#ffffff;stroke-linecap:round;\"/>\r\n     </g>\r\n     <g id=\"text_10\">\r\n      <!-- 0 -->\r\n      <g style=\"fill:#262626;\" transform=\"translate(13.317031 462.576797)scale(0.11 -0.11)\">\r\n       <defs>\r\n        <path d=\"M 4.15625 35.296875 \r\nQ 4.15625 48 6.765625 55.734375 \r\nQ 9.375 63.484375 14.515625 67.671875 \r\nQ 19.671875 71.875 27.484375 71.875 \r\nQ 33.25 71.875 37.59375 69.546875 \r\nQ 41.9375 67.234375 44.765625 62.859375 \r\nQ 47.609375 58.5 49.21875 52.21875 \r\nQ 50.828125 45.953125 50.828125 35.296875 \r\nQ 50.828125 22.703125 48.234375 14.96875 \r\nQ 45.65625 7.234375 40.5 3 \r\nQ 35.359375 -1.21875 27.484375 -1.21875 \r\nQ 17.140625 -1.21875 11.234375 6.203125 \r\nQ 4.15625 15.140625 4.15625 35.296875 \r\nz\r\nM 13.1875 35.296875 \r\nQ 13.1875 17.671875 17.3125 11.828125 \r\nQ 21.4375 6 27.484375 6 \r\nQ 33.546875 6 37.671875 11.859375 \r\nQ 41.796875 17.71875 41.796875 35.296875 \r\nQ 41.796875 52.984375 37.671875 58.78125 \r\nQ 33.546875 64.59375 27.390625 64.59375 \r\nQ 21.34375 64.59375 17.71875 59.46875 \r\nQ 13.1875 52.9375 13.1875 35.296875 \r\nz\r\n\" id=\"ArialMT-48\"/>\r\n       </defs>\r\n       <use xlink:href=\"#ArialMT-48\"/>\r\n      </g>\r\n     </g>\r\n    </g>\r\n    <g id=\"ytick_2\">\r\n     <g id=\"line2d_11\">\r\n      <path clip-path=\"url(#p898411d1a3)\" d=\"M 28.934062 393.597363 \r\nL 799.334062 393.597363 \r\n\" style=\"fill:none;stroke:#ffffff;stroke-linecap:round;\"/>\r\n     </g>\r\n     <g id=\"text_11\">\r\n      <!-- 10 -->\r\n      <g style=\"fill:#262626;\" transform=\"translate(7.2 397.53416)scale(0.11 -0.11)\">\r\n       <defs>\r\n        <path d=\"M 37.25 0 \r\nL 28.46875 0 \r\nL 28.46875 56 \r\nQ 25.296875 52.984375 20.140625 49.953125 \r\nQ 14.984375 46.921875 10.890625 45.40625 \r\nL 10.890625 53.90625 \r\nQ 18.265625 57.375 23.78125 62.296875 \r\nQ 29.296875 67.234375 31.59375 71.875 \r\nL 37.25 71.875 \r\nz\r\n\" id=\"ArialMT-49\"/>\r\n       </defs>\r\n       <use xlink:href=\"#ArialMT-49\"/>\r\n       <use x=\"55.615234\" xlink:href=\"#ArialMT-48\"/>\r\n      </g>\r\n     </g>\r\n    </g>\r\n    <g id=\"ytick_3\">\r\n     <g id=\"line2d_12\">\r\n      <path clip-path=\"url(#p898411d1a3)\" d=\"M 28.934062 328.554725 \r\nL 799.334062 328.554725 \r\n\" style=\"fill:none;stroke:#ffffff;stroke-linecap:round;\"/>\r\n     </g>\r\n     <g id=\"text_12\">\r\n      <!-- 20 -->\r\n      <g style=\"fill:#262626;\" transform=\"translate(7.2 332.491522)scale(0.11 -0.11)\">\r\n       <defs>\r\n        <path d=\"M 50.34375 8.453125 \r\nL 50.34375 0 \r\nL 3.03125 0 \r\nQ 2.9375 3.171875 4.046875 6.109375 \r\nQ 5.859375 10.9375 9.828125 15.625 \r\nQ 13.8125 20.3125 21.34375 26.46875 \r\nQ 33.015625 36.03125 37.109375 41.625 \r\nQ 41.21875 47.21875 41.21875 52.203125 \r\nQ 41.21875 57.421875 37.46875 61 \r\nQ 33.734375 64.59375 27.734375 64.59375 \r\nQ 21.390625 64.59375 17.578125 60.78125 \r\nQ 13.765625 56.984375 13.71875 50.25 \r\nL 4.6875 51.171875 \r\nQ 5.609375 61.28125 11.65625 66.578125 \r\nQ 17.71875 71.875 27.9375 71.875 \r\nQ 38.234375 71.875 44.234375 66.15625 \r\nQ 50.25 60.453125 50.25 52 \r\nQ 50.25 47.703125 48.484375 43.546875 \r\nQ 46.734375 39.40625 42.65625 34.8125 \r\nQ 38.578125 30.21875 29.109375 22.21875 \r\nQ 21.1875 15.578125 18.9375 13.203125 \r\nQ 16.703125 10.84375 15.234375 8.453125 \r\nz\r\n\" id=\"ArialMT-50\"/>\r\n       </defs>\r\n       <use xlink:href=\"#ArialMT-50\"/>\r\n       <use x=\"55.615234\" xlink:href=\"#ArialMT-48\"/>\r\n      </g>\r\n     </g>\r\n    </g>\r\n    <g id=\"ytick_4\">\r\n     <g id=\"line2d_13\">\r\n      <path clip-path=\"url(#p898411d1a3)\" d=\"M 28.934062 263.512088 \r\nL 799.334062 263.512088 \r\n\" style=\"fill:none;stroke:#ffffff;stroke-linecap:round;\"/>\r\n     </g>\r\n     <g id=\"text_13\">\r\n      <!-- 30 -->\r\n      <g style=\"fill:#262626;\" transform=\"translate(7.2 267.448885)scale(0.11 -0.11)\">\r\n       <defs>\r\n        <path d=\"M 4.203125 18.890625 \r\nL 12.984375 20.0625 \r\nQ 14.5 12.59375 18.140625 9.296875 \r\nQ 21.78125 6 27 6 \r\nQ 33.203125 6 37.46875 10.296875 \r\nQ 41.75 14.59375 41.75 20.953125 \r\nQ 41.75 27 37.796875 30.921875 \r\nQ 33.84375 34.859375 27.734375 34.859375 \r\nQ 25.25 34.859375 21.53125 33.890625 \r\nL 22.515625 41.609375 \r\nQ 23.390625 41.5 23.921875 41.5 \r\nQ 29.546875 41.5 34.03125 44.421875 \r\nQ 38.53125 47.359375 38.53125 53.46875 \r\nQ 38.53125 58.296875 35.25 61.46875 \r\nQ 31.984375 64.65625 26.8125 64.65625 \r\nQ 21.6875 64.65625 18.265625 61.421875 \r\nQ 14.84375 58.203125 13.875 51.765625 \r\nL 5.078125 53.328125 \r\nQ 6.6875 62.15625 12.390625 67.015625 \r\nQ 18.109375 71.875 26.609375 71.875 \r\nQ 32.46875 71.875 37.390625 69.359375 \r\nQ 42.328125 66.84375 44.9375 62.5 \r\nQ 47.5625 58.15625 47.5625 53.265625 \r\nQ 47.5625 48.640625 45.0625 44.828125 \r\nQ 42.578125 41.015625 37.703125 38.765625 \r\nQ 44.046875 37.3125 47.5625 32.6875 \r\nQ 51.078125 28.078125 51.078125 21.140625 \r\nQ 51.078125 11.765625 44.234375 5.25 \r\nQ 37.40625 -1.265625 26.953125 -1.265625 \r\nQ 17.53125 -1.265625 11.296875 4.34375 \r\nQ 5.078125 9.96875 4.203125 18.890625 \r\nz\r\n\" id=\"ArialMT-51\"/>\r\n       </defs>\r\n       <use xlink:href=\"#ArialMT-51\"/>\r\n       <use x=\"55.615234\" xlink:href=\"#ArialMT-48\"/>\r\n      </g>\r\n     </g>\r\n    </g>\r\n    <g id=\"ytick_5\">\r\n     <g id=\"line2d_14\">\r\n      <path clip-path=\"url(#p898411d1a3)\" d=\"M 28.934062 198.469451 \r\nL 799.334062 198.469451 \r\n\" style=\"fill:none;stroke:#ffffff;stroke-linecap:round;\"/>\r\n     </g>\r\n     <g id=\"text_14\">\r\n      <!-- 40 -->\r\n      <g style=\"fill:#262626;\" transform=\"translate(7.2 202.406247)scale(0.11 -0.11)\">\r\n       <defs>\r\n        <path d=\"M 32.328125 0 \r\nL 32.328125 17.140625 \r\nL 1.265625 17.140625 \r\nL 1.265625 25.203125 \r\nL 33.9375 71.578125 \r\nL 41.109375 71.578125 \r\nL 41.109375 25.203125 \r\nL 50.78125 25.203125 \r\nL 50.78125 17.140625 \r\nL 41.109375 17.140625 \r\nL 41.109375 0 \r\nz\r\nM 32.328125 25.203125 \r\nL 32.328125 57.46875 \r\nL 9.90625 25.203125 \r\nz\r\n\" id=\"ArialMT-52\"/>\r\n       </defs>\r\n       <use xlink:href=\"#ArialMT-52\"/>\r\n       <use x=\"55.615234\" xlink:href=\"#ArialMT-48\"/>\r\n      </g>\r\n     </g>\r\n    </g>\r\n    <g id=\"ytick_6\">\r\n     <g id=\"line2d_15\">\r\n      <path clip-path=\"url(#p898411d1a3)\" d=\"M 28.934062 133.426813 \r\nL 799.334062 133.426813 \r\n\" style=\"fill:none;stroke:#ffffff;stroke-linecap:round;\"/>\r\n     </g>\r\n     <g id=\"text_15\">\r\n      <!-- 50 -->\r\n      <g style=\"fill:#262626;\" transform=\"translate(7.2 137.36361)scale(0.11 -0.11)\">\r\n       <defs>\r\n        <path d=\"M 4.15625 18.75 \r\nL 13.375 19.53125 \r\nQ 14.40625 12.796875 18.140625 9.390625 \r\nQ 21.875 6 27.15625 6 \r\nQ 33.5 6 37.890625 10.78125 \r\nQ 42.28125 15.578125 42.28125 23.484375 \r\nQ 42.28125 31 38.0625 35.34375 \r\nQ 33.84375 39.703125 27 39.703125 \r\nQ 22.75 39.703125 19.328125 37.765625 \r\nQ 15.921875 35.84375 13.96875 32.765625 \r\nL 5.71875 33.84375 \r\nL 12.640625 70.609375 \r\nL 48.25 70.609375 \r\nL 48.25 62.203125 \r\nL 19.671875 62.203125 \r\nL 15.828125 42.96875 \r\nQ 22.265625 47.46875 29.34375 47.46875 \r\nQ 38.71875 47.46875 45.15625 40.96875 \r\nQ 51.609375 34.46875 51.609375 24.265625 \r\nQ 51.609375 14.546875 45.953125 7.46875 \r\nQ 39.0625 -1.21875 27.15625 -1.21875 \r\nQ 17.390625 -1.21875 11.203125 4.25 \r\nQ 5.03125 9.71875 4.15625 18.75 \r\nz\r\n\" id=\"ArialMT-53\"/>\r\n       </defs>\r\n       <use xlink:href=\"#ArialMT-53\"/>\r\n       <use x=\"55.615234\" xlink:href=\"#ArialMT-48\"/>\r\n      </g>\r\n     </g>\r\n    </g>\r\n    <g id=\"ytick_7\">\r\n     <g id=\"line2d_16\">\r\n      <path clip-path=\"url(#p898411d1a3)\" d=\"M 28.934062 68.384176 \r\nL 799.334062 68.384176 \r\n\" style=\"fill:none;stroke:#ffffff;stroke-linecap:round;\"/>\r\n     </g>\r\n     <g id=\"text_16\">\r\n      <!-- 60 -->\r\n      <g style=\"fill:#262626;\" transform=\"translate(7.2 72.320973)scale(0.11 -0.11)\">\r\n       <defs>\r\n        <path d=\"M 49.75 54.046875 \r\nL 41.015625 53.375 \r\nQ 39.84375 58.546875 37.703125 60.890625 \r\nQ 34.125 64.65625 28.90625 64.65625 \r\nQ 24.703125 64.65625 21.53125 62.3125 \r\nQ 17.390625 59.28125 14.984375 53.46875 \r\nQ 12.59375 47.65625 12.5 36.921875 \r\nQ 15.671875 41.75 20.265625 44.09375 \r\nQ 24.859375 46.4375 29.890625 46.4375 \r\nQ 38.671875 46.4375 44.84375 39.96875 \r\nQ 51.03125 33.5 51.03125 23.25 \r\nQ 51.03125 16.5 48.125 10.71875 \r\nQ 45.21875 4.9375 40.140625 1.859375 \r\nQ 35.0625 -1.21875 28.609375 -1.21875 \r\nQ 17.625 -1.21875 10.6875 6.859375 \r\nQ 3.765625 14.9375 3.765625 33.5 \r\nQ 3.765625 54.25 11.421875 63.671875 \r\nQ 18.109375 71.875 29.4375 71.875 \r\nQ 37.890625 71.875 43.28125 67.140625 \r\nQ 48.6875 62.40625 49.75 54.046875 \r\nz\r\nM 13.875 23.1875 \r\nQ 13.875 18.65625 15.796875 14.5 \r\nQ 17.71875 10.359375 21.1875 8.171875 \r\nQ 24.65625 6 28.46875 6 \r\nQ 34.03125 6 38.03125 10.484375 \r\nQ 42.046875 14.984375 42.046875 22.703125 \r\nQ 42.046875 30.125 38.078125 34.390625 \r\nQ 34.125 38.671875 28.125 38.671875 \r\nQ 22.171875 38.671875 18.015625 34.390625 \r\nQ 13.875 30.125 13.875 23.1875 \r\nz\r\n\" id=\"ArialMT-54\"/>\r\n       </defs>\r\n       <use xlink:href=\"#ArialMT-54\"/>\r\n       <use x=\"55.615234\" xlink:href=\"#ArialMT-48\"/>\r\n      </g>\r\n     </g>\r\n    </g>\r\n   </g>\r\n   <g id=\"patch_3\">\r\n    <path clip-path=\"url(#p898411d1a3)\" d=\"M 63.952244 458.64 \r\nL 127.621666 458.64 \r\nL 127.621666 28.697143 \r\nL 63.952244 28.697143 \r\nz\r\n\" style=\"fill:#4c72b0;stroke:#ffffff;stroke-linejoin:miter;\"/>\r\n   </g>\r\n   <g id=\"patch_4\">\r\n    <path clip-path=\"url(#p898411d1a3)\" d=\"M 143.539021 458.64 \r\nL 207.208443 458.64 \r\nL 207.208443 370.954832 \r\nL 143.539021 370.954832 \r\nz\r\n\" style=\"fill:#4c72b0;stroke:#ffffff;stroke-linejoin:miter;\"/>\r\n   </g>\r\n   <g id=\"patch_5\">\r\n    <path clip-path=\"url(#p898411d1a3)\" d=\"M 223.125798 458.64 \r\nL 286.79522 458.64 \r\nL 286.79522 400.273854 \r\nL 223.125798 400.273854 \r\nz\r\n\" style=\"fill:#4c72b0;stroke:#ffffff;stroke-linejoin:miter;\"/>\r\n   </g>\r\n   <g id=\"patch_6\">\r\n    <path clip-path=\"url(#p898411d1a3)\" d=\"M 302.712575 458.64 \r\nL 366.381996 458.64 \r\nL 366.381996 399.292755 \r\nL 302.712575 399.292755 \r\nz\r\n\" style=\"fill:#4c72b0;stroke:#ffffff;stroke-linejoin:miter;\"/>\r\n   </g>\r\n   <g id=\"patch_7\">\r\n    <path clip-path=\"url(#p898411d1a3)\" d=\"M 382.299352 458.64 \r\nL 445.968773 458.64 \r\nL 445.968773 409.315767 \r\nL 382.299352 409.315767 \r\nz\r\n\" style=\"fill:#4c72b0;stroke:#ffffff;stroke-linejoin:miter;\"/>\r\n   </g>\r\n   <g id=\"patch_8\">\r\n    <path clip-path=\"url(#p898411d1a3)\" d=\"M 461.886129 458.64 \r\nL 525.55555 458.64 \r\nL 525.55555 425.359931 \r\nL 461.886129 425.359931 \r\nz\r\n\" style=\"fill:#4c72b0;stroke:#ffffff;stroke-linejoin:miter;\"/>\r\n   </g>\r\n   <g id=\"patch_9\">\r\n    <path clip-path=\"url(#p898411d1a3)\" d=\"M 541.472905 458.64 \r\nL 605.142327 458.64 \r\nL 605.142327 436.284887 \r\nL 541.472905 436.284887 \r\nz\r\n\" style=\"fill:#4c72b0;stroke:#ffffff;stroke-linejoin:miter;\"/>\r\n   </g>\r\n   <g id=\"patch_10\">\r\n    <path clip-path=\"url(#p898411d1a3)\" d=\"M 621.059682 458.64 \r\nL 684.729104 458.64 \r\nL 684.729104 453.024054 \r\nL 621.059682 453.024054 \r\nz\r\n\" style=\"fill:#4c72b0;stroke:#ffffff;stroke-linejoin:miter;\"/>\r\n   </g>\r\n   <g id=\"patch_11\">\r\n    <path clip-path=\"url(#p898411d1a3)\" d=\"M 700.646459 458.64 \r\nL 764.315881 458.64 \r\nL 764.315881 453.017424 \r\nL 700.646459 453.017424 \r\nz\r\n\" style=\"fill:#4c72b0;stroke:#ffffff;stroke-linejoin:miter;\"/>\r\n   </g>\r\n   <g id=\"patch_12\">\r\n    <path d=\"M 28.934062 458.64 \r\nL 28.934062 7.2 \r\n\" style=\"fill:none;stroke:#ffffff;stroke-linecap:square;stroke-linejoin:miter;stroke-width:1.25;\"/>\r\n   </g>\r\n   <g id=\"patch_13\">\r\n    <path d=\"M 799.334062 458.64 \r\nL 799.334062 7.2 \r\n\" style=\"fill:none;stroke:#ffffff;stroke-linecap:square;stroke-linejoin:miter;stroke-width:1.25;\"/>\r\n   </g>\r\n   <g id=\"patch_14\">\r\n    <path d=\"M 28.934063 458.64 \r\nL 799.334062 458.64 \r\n\" style=\"fill:none;stroke:#ffffff;stroke-linecap:square;stroke-linejoin:miter;stroke-width:1.25;\"/>\r\n   </g>\r\n   <g id=\"patch_15\">\r\n    <path d=\"M 28.934063 7.2 \r\nL 799.334062 7.2 \r\n\" style=\"fill:none;stroke:#ffffff;stroke-linecap:square;stroke-linejoin:miter;stroke-width:1.25;\"/>\r\n   </g>\r\n  </g>\r\n </g>\r\n <defs>\r\n  <clipPath id=\"p898411d1a3\">\r\n   <rect height=\"451.44\" width=\"770.4\" x=\"28.934062\" y=\"7.2\"/>\r\n  </clipPath>\r\n </defs>\r\n</svg>\r\n",
      "image/png": "[encoded data removed]"
     },
     "metadata": {}
    }
   ],
   "source": [
    "# now as we consider only USA we can proceed away with states.\n",
    "sns.set(rc={'figure.figsize':(10.7,6.27)})\n",
    "fig = plt.figure()\n",
    "ax = fig.add_axes([0,0,1,1])\n",
    "ax.bar(labels,sizes)\n",
    "plt.show()"
   ]
  },
  {
   "cell_type": "code",
   "execution_count": 21,
   "metadata": {},
   "outputs": [
    {
     "output_type": "execute_result",
     "data": {
      "text/plain": [
       "California    117\n",
       "Nevada         17\n",
       "Colorado       11\n",
       "Oregon         11\n",
       "Arizona         9\n",
       "Utah            6\n",
       "Virginia        4\n",
       "Kansas          1\n",
       "Wyoming         1\n",
       "Name: state, dtype: int64"
      ]
     },
     "metadata": {},
     "execution_count": 21
    }
   ],
   "source": [
    "df_sold['state'].value_counts()"
   ]
  },
  {
   "source": [
    "### ANSWER :\n",
    "California accounts most of the sale, more than 65% and consists of 117 properties. Nest comes Nevada with 17, Colorado and Oregon with 11, Arizona with 9, Utah and Virginia with 6 and 4 respectively. The lowest ones are Wyoming and Kansas with 1 property."
   ],
   "cell_type": "markdown",
   "metadata": {}
  },
  {
   "source": [
    "### Q3 Which age group are most into property buying and for what purpose ?"
   ],
   "cell_type": "markdown",
   "metadata": {}
  },
  {
   "cell_type": "code",
   "execution_count": 22,
   "metadata": {},
   "outputs": [],
   "source": [
    "# create age column\n",
    "df_sold['age'] = df_sold['year-sale'] - df_sold['year']"
   ]
  },
  {
   "cell_type": "code",
   "execution_count": 23,
   "metadata": {},
   "outputs": [
    {
     "output_type": "execute_result",
     "data": {
      "text/plain": [
       "     year-sale  month-sale property-type     area      price  status  \\\n",
       "0       2005.0        11.0     Apartment   743.09  246172.68   Sold    \n",
       "1       2005.0        10.0     Apartment   756.21  246331.90   Sold    \n",
       "2       2007.0         7.0     Apartment   587.28  209280.91   Sold    \n",
       "3       2007.0        12.0     Apartment  1604.75  452667.01   Sold    \n",
       "4       2004.0        11.0     Apartment  1375.45  467083.31   Sold    \n",
       "..         ...         ...           ...      ...        ...     ...   \n",
       "191     2005.0         7.0     Apartment   743.09  210745.17   Sold    \n",
       "192     2005.0         7.0     Apartment  1160.36  331154.88   Sold    \n",
       "193     2005.0         7.0     Apartment   625.80  204434.68   Sold    \n",
       "194     2005.0         7.0     Apartment   756.21  189194.31   Sold    \n",
       "195     2005.0         7.0     Apartment   625.80  204027.09   Sold    \n",
       "\n",
       "    customer-id      entity    year  gender country       state     purpose  \\\n",
       "0         C0028  Individual  1986.0  FEMALE     USA  California        Home   \n",
       "1         C0027  Individual  1983.0  FEMALE     USA  California        Home   \n",
       "2         C0112  Individual  1985.0    MALE     USA  California        Home   \n",
       "3         C0160  Individual  1985.0    MALE     USA  California  Investment   \n",
       "4         C0014  Individual  1979.0  FEMALE     USA  California        Home   \n",
       "..          ...         ...     ...     ...     ...         ...         ...   \n",
       "191       C0174        Firm     NaN    FIRM     USA  California  Investment   \n",
       "192       C0174        Firm     NaN    FIRM     USA  California  Investment   \n",
       "193       C0174        Firm     NaN    FIRM     USA  California  Investment   \n",
       "194       C0174        Firm     NaN    FIRM     USA  California  Investment   \n",
       "195       C0174        Firm     NaN    FIRM     USA  California  Investment   \n",
       "\n",
       "     satisfaction-score mortgage   source   age  \n",
       "0                   5.0       No  Website  19.0  \n",
       "1                   5.0       No  Website  22.0  \n",
       "2                   1.0      Yes   Client  22.0  \n",
       "3                   3.0      Yes  Website  22.0  \n",
       "4                   4.0       No   Agency  25.0  \n",
       "..                  ...      ...      ...   ...  \n",
       "191                 5.0       No  Website   NaN  \n",
       "192                 5.0       No  Website   NaN  \n",
       "193                 5.0       No  Website   NaN  \n",
       "194                 5.0       No  Website   NaN  \n",
       "195                 5.0       No  Website   NaN  \n",
       "\n",
       "[177 rows x 17 columns]"
      ],
      "text/html": "<div>\n<style scoped>\n    .dataframe tbody tr th:only-of-type {\n        vertical-align: middle;\n    }\n\n    .dataframe tbody tr th {\n        vertical-align: top;\n    }\n\n    .dataframe thead th {\n        text-align: right;\n    }\n</style>\n<table border=\"1\" class=\"dataframe\">\n  <thead>\n    <tr style=\"text-align: right;\">\n      <th></th>\n      <th>year-sale</th>\n      <th>month-sale</th>\n      <th>property-type</th>\n      <th>area</th>\n      <th>price</th>\n      <th>status</th>\n      <th>customer-id</th>\n      <th>entity</th>\n      <th>year</th>\n      <th>gender</th>\n      <th>country</th>\n      <th>state</th>\n      <th>purpose</th>\n      <th>satisfaction-score</th>\n      <th>mortgage</th>\n      <th>source</th>\n      <th>age</th>\n    </tr>\n  </thead>\n  <tbody>\n    <tr>\n      <th>0</th>\n      <td>2005.0</td>\n      <td>11.0</td>\n      <td>Apartment</td>\n      <td>743.09</td>\n      <td>246172.68</td>\n      <td>Sold</td>\n      <td>C0028</td>\n      <td>Individual</td>\n      <td>1986.0</td>\n      <td>FEMALE</td>\n      <td>USA</td>\n      <td>California</td>\n      <td>Home</td>\n      <td>5.0</td>\n      <td>No</td>\n      <td>Website</td>\n      <td>19.0</td>\n    </tr>\n    <tr>\n      <th>1</th>\n      <td>2005.0</td>\n      <td>10.0</td>\n      <td>Apartment</td>\n      <td>756.21</td>\n      <td>246331.90</td>\n      <td>Sold</td>\n      <td>C0027</td>\n      <td>Individual</td>\n      <td>1983.0</td>\n      <td>FEMALE</td>\n      <td>USA</td>\n      <td>California</td>\n      <td>Home</td>\n      <td>5.0</td>\n      <td>No</td>\n      <td>Website</td>\n      <td>22.0</td>\n    </tr>\n    <tr>\n      <th>2</th>\n      <td>2007.0</td>\n      <td>7.0</td>\n      <td>Apartment</td>\n      <td>587.28</td>\n      <td>209280.91</td>\n      <td>Sold</td>\n      <td>C0112</td>\n      <td>Individual</td>\n      <td>1985.0</td>\n      <td>MALE</td>\n      <td>USA</td>\n      <td>California</td>\n      <td>Home</td>\n      <td>1.0</td>\n      <td>Yes</td>\n      <td>Client</td>\n      <td>22.0</td>\n    </tr>\n    <tr>\n      <th>3</th>\n      <td>2007.0</td>\n      <td>12.0</td>\n      <td>Apartment</td>\n      <td>1604.75</td>\n      <td>452667.01</td>\n      <td>Sold</td>\n      <td>C0160</td>\n      <td>Individual</td>\n      <td>1985.0</td>\n      <td>MALE</td>\n      <td>USA</td>\n      <td>California</td>\n      <td>Investment</td>\n      <td>3.0</td>\n      <td>Yes</td>\n      <td>Website</td>\n      <td>22.0</td>\n    </tr>\n    <tr>\n      <th>4</th>\n      <td>2004.0</td>\n      <td>11.0</td>\n      <td>Apartment</td>\n      <td>1375.45</td>\n      <td>467083.31</td>\n      <td>Sold</td>\n      <td>C0014</td>\n      <td>Individual</td>\n      <td>1979.0</td>\n      <td>FEMALE</td>\n      <td>USA</td>\n      <td>California</td>\n      <td>Home</td>\n      <td>4.0</td>\n      <td>No</td>\n      <td>Agency</td>\n      <td>25.0</td>\n    </tr>\n    <tr>\n      <th>...</th>\n      <td>...</td>\n      <td>...</td>\n      <td>...</td>\n      <td>...</td>\n      <td>...</td>\n      <td>...</td>\n      <td>...</td>\n      <td>...</td>\n      <td>...</td>\n      <td>...</td>\n      <td>...</td>\n      <td>...</td>\n      <td>...</td>\n      <td>...</td>\n      <td>...</td>\n      <td>...</td>\n      <td>...</td>\n    </tr>\n    <tr>\n      <th>191</th>\n      <td>2005.0</td>\n      <td>7.0</td>\n      <td>Apartment</td>\n      <td>743.09</td>\n      <td>210745.17</td>\n      <td>Sold</td>\n      <td>C0174</td>\n      <td>Firm</td>\n      <td>NaN</td>\n      <td>FIRM</td>\n      <td>USA</td>\n      <td>California</td>\n      <td>Investment</td>\n      <td>5.0</td>\n      <td>No</td>\n      <td>Website</td>\n      <td>NaN</td>\n    </tr>\n    <tr>\n      <th>192</th>\n      <td>2005.0</td>\n      <td>7.0</td>\n      <td>Apartment</td>\n      <td>1160.36</td>\n      <td>331154.88</td>\n      <td>Sold</td>\n      <td>C0174</td>\n      <td>Firm</td>\n      <td>NaN</td>\n      <td>FIRM</td>\n      <td>USA</td>\n      <td>California</td>\n      <td>Investment</td>\n      <td>5.0</td>\n      <td>No</td>\n      <td>Website</td>\n      <td>NaN</td>\n    </tr>\n    <tr>\n      <th>193</th>\n      <td>2005.0</td>\n      <td>7.0</td>\n      <td>Apartment</td>\n      <td>625.80</td>\n      <td>204434.68</td>\n      <td>Sold</td>\n      <td>C0174</td>\n      <td>Firm</td>\n      <td>NaN</td>\n      <td>FIRM</td>\n      <td>USA</td>\n      <td>California</td>\n      <td>Investment</td>\n      <td>5.0</td>\n      <td>No</td>\n      <td>Website</td>\n      <td>NaN</td>\n    </tr>\n    <tr>\n      <th>194</th>\n      <td>2005.0</td>\n      <td>7.0</td>\n      <td>Apartment</td>\n      <td>756.21</td>\n      <td>189194.31</td>\n      <td>Sold</td>\n      <td>C0174</td>\n      <td>Firm</td>\n      <td>NaN</td>\n      <td>FIRM</td>\n      <td>USA</td>\n      <td>California</td>\n      <td>Investment</td>\n      <td>5.0</td>\n      <td>No</td>\n      <td>Website</td>\n      <td>NaN</td>\n    </tr>\n    <tr>\n      <th>195</th>\n      <td>2005.0</td>\n      <td>7.0</td>\n      <td>Apartment</td>\n      <td>625.80</td>\n      <td>204027.09</td>\n      <td>Sold</td>\n      <td>C0174</td>\n      <td>Firm</td>\n      <td>NaN</td>\n      <td>FIRM</td>\n      <td>USA</td>\n      <td>California</td>\n      <td>Investment</td>\n      <td>5.0</td>\n      <td>No</td>\n      <td>Website</td>\n      <td>NaN</td>\n    </tr>\n  </tbody>\n</table>\n<p>177 rows × 17 columns</p>\n</div>"
     },
     "metadata": {},
     "execution_count": 23
    }
   ],
   "source": [
    "df_sold"
   ]
  },
  {
   "cell_type": "code",
   "execution_count": 24,
   "metadata": {},
   "outputs": [],
   "source": [
    "# create age range \n",
    "ran = [18,25,35,45,55,65]\n",
    "df_sold['age-range'] = 0\n",
    "for i,age in enumerate(df_sold.age):\n",
    "    if age >= ran[0] and age <= ran[1]:\n",
    "        df_sold['age-range'][i] = str(ran[0])+\"-\"+str(ran[1])\n",
    "    elif age > ran[1] and age <= ran[2]:\n",
    "        df_sold['age-range'][i] = str(ran[1]+1)+\"-\"+str(ran[2])\n",
    "    elif age > ran[2] and age <= ran[3]:\n",
    "        df_sold['age-range'][i] = str(ran[2]+1)+\"-\"+str(ran[3])\n",
    "    elif age > ran[3] and age <= ran[4]:\n",
    "        df_sold['age-range'][i] = str(ran[3]+1)+\"-\"+str(ran[4])\n",
    "    elif age > ran[4] and age <= ran[5]:\n",
    "        df_sold['age-range'][i] = str(ran[4]+1)+\"-\"+str(ran[5])\n",
    "    elif age > ran[5]:\n",
    "        df_sold['age-range'][i] = str(ran[5])+\"+\""
   ]
  },
  {
   "cell_type": "code",
   "execution_count": 28,
   "metadata": {},
   "outputs": [
    {
     "output_type": "execute_result",
     "data": {
      "text/plain": [
       "array(['18-25', '26-35', '36-45', '46-55', 'FIRM', '65+'], dtype=object)"
      ]
     },
     "metadata": {},
     "execution_count": 28
    }
   ],
   "source": [
    "# change age range for Firms as we dont have any age for them\n",
    "df_sold['age-range'].replace(0,'FIRM',inplace=True)\n",
    "df_sold['age-range'].unique()"
   ]
  },
  {
   "cell_type": "code",
   "execution_count": 25,
   "metadata": {},
   "outputs": [
    {
     "output_type": "execute_result",
     "data": {
      "text/plain": [
       "False"
      ]
     },
     "metadata": {},
     "execution_count": 25
    }
   ],
   "source": [
    "df_sold['purpose'].isna().all()"
   ]
  },
  {
   "cell_type": "code",
   "execution_count": 26,
   "metadata": {},
   "outputs": [
    {
     "output_type": "execute_result",
     "data": {
      "text/plain": [
       "     year-sale  month-sale property-type     area      price  status  \\\n",
       "0       2005.0        11.0     Apartment   743.09  246172.68   Sold    \n",
       "1       2005.0        10.0     Apartment   756.21  246331.90   Sold    \n",
       "2       2007.0         7.0     Apartment   587.28  209280.91   Sold    \n",
       "3       2007.0        12.0     Apartment  1604.75  452667.01   Sold    \n",
       "4       2004.0        11.0     Apartment  1375.45  467083.31   Sold    \n",
       "..         ...         ...           ...      ...        ...     ...   \n",
       "191     2005.0         7.0     Apartment   743.09  210745.17   Sold    \n",
       "192     2005.0         7.0     Apartment  1160.36  331154.88   Sold    \n",
       "193     2005.0         7.0     Apartment   625.80  204434.68   Sold    \n",
       "194     2005.0         7.0     Apartment   756.21  189194.31   Sold    \n",
       "195     2005.0         7.0     Apartment   625.80  204027.09   Sold    \n",
       "\n",
       "    customer-id      entity    year  gender country       state     purpose  \\\n",
       "0         C0028  Individual  1986.0  FEMALE     USA  California        Home   \n",
       "1         C0027  Individual  1983.0  FEMALE     USA  California        Home   \n",
       "2         C0112  Individual  1985.0    MALE     USA  California        Home   \n",
       "3         C0160  Individual  1985.0    MALE     USA  California  Investment   \n",
       "4         C0014  Individual  1979.0  FEMALE     USA  California        Home   \n",
       "..          ...         ...     ...     ...     ...         ...         ...   \n",
       "191       C0174        Firm     NaN    FIRM     USA  California  Investment   \n",
       "192       C0174        Firm     NaN    FIRM     USA  California  Investment   \n",
       "193       C0174        Firm     NaN    FIRM     USA  California  Investment   \n",
       "194       C0174        Firm     NaN    FIRM     USA  California  Investment   \n",
       "195       C0174        Firm     NaN    FIRM     USA  California  Investment   \n",
       "\n",
       "     satisfaction-score mortgage   source   age age-range  \n",
       "0                   5.0       No  Website  19.0     18-25  \n",
       "1                   5.0       No  Website  22.0     18-25  \n",
       "2                   1.0      Yes   Client  22.0     18-25  \n",
       "3                   3.0      Yes  Website  22.0     18-25  \n",
       "4                   4.0       No   Agency  25.0     18-25  \n",
       "..                  ...      ...      ...   ...       ...  \n",
       "191                 5.0       No  Website   NaN         0  \n",
       "192                 5.0       No  Website   NaN         0  \n",
       "193                 5.0       No  Website   NaN         0  \n",
       "194                 5.0       No  Website   NaN         0  \n",
       "195                 5.0       No  Website   NaN         0  \n",
       "\n",
       "[177 rows x 18 columns]"
      ],
      "text/html": "<div>\n<style scoped>\n    .dataframe tbody tr th:only-of-type {\n        vertical-align: middle;\n    }\n\n    .dataframe tbody tr th {\n        vertical-align: top;\n    }\n\n    .dataframe thead th {\n        text-align: right;\n    }\n</style>\n<table border=\"1\" class=\"dataframe\">\n  <thead>\n    <tr style=\"text-align: right;\">\n      <th></th>\n      <th>year-sale</th>\n      <th>month-sale</th>\n      <th>property-type</th>\n      <th>area</th>\n      <th>price</th>\n      <th>status</th>\n      <th>customer-id</th>\n      <th>entity</th>\n      <th>year</th>\n      <th>gender</th>\n      <th>country</th>\n      <th>state</th>\n      <th>purpose</th>\n      <th>satisfaction-score</th>\n      <th>mortgage</th>\n      <th>source</th>\n      <th>age</th>\n      <th>age-range</th>\n    </tr>\n  </thead>\n  <tbody>\n    <tr>\n      <th>0</th>\n      <td>2005.0</td>\n      <td>11.0</td>\n      <td>Apartment</td>\n      <td>743.09</td>\n      <td>246172.68</td>\n      <td>Sold</td>\n      <td>C0028</td>\n      <td>Individual</td>\n      <td>1986.0</td>\n      <td>FEMALE</td>\n      <td>USA</td>\n      <td>California</td>\n      <td>Home</td>\n      <td>5.0</td>\n      <td>No</td>\n      <td>Website</td>\n      <td>19.0</td>\n      <td>18-25</td>\n    </tr>\n    <tr>\n      <th>1</th>\n      <td>2005.0</td>\n      <td>10.0</td>\n      <td>Apartment</td>\n      <td>756.21</td>\n      <td>246331.90</td>\n      <td>Sold</td>\n      <td>C0027</td>\n      <td>Individual</td>\n      <td>1983.0</td>\n      <td>FEMALE</td>\n      <td>USA</td>\n      <td>California</td>\n      <td>Home</td>\n      <td>5.0</td>\n      <td>No</td>\n      <td>Website</td>\n      <td>22.0</td>\n      <td>18-25</td>\n    </tr>\n    <tr>\n      <th>2</th>\n      <td>2007.0</td>\n      <td>7.0</td>\n      <td>Apartment</td>\n      <td>587.28</td>\n      <td>209280.91</td>\n      <td>Sold</td>\n      <td>C0112</td>\n      <td>Individual</td>\n      <td>1985.0</td>\n      <td>MALE</td>\n      <td>USA</td>\n      <td>California</td>\n      <td>Home</td>\n      <td>1.0</td>\n      <td>Yes</td>\n      <td>Client</td>\n      <td>22.0</td>\n      <td>18-25</td>\n    </tr>\n    <tr>\n      <th>3</th>\n      <td>2007.0</td>\n      <td>12.0</td>\n      <td>Apartment</td>\n      <td>1604.75</td>\n      <td>452667.01</td>\n      <td>Sold</td>\n      <td>C0160</td>\n      <td>Individual</td>\n      <td>1985.0</td>\n      <td>MALE</td>\n      <td>USA</td>\n      <td>California</td>\n      <td>Investment</td>\n      <td>3.0</td>\n      <td>Yes</td>\n      <td>Website</td>\n      <td>22.0</td>\n      <td>18-25</td>\n    </tr>\n    <tr>\n      <th>4</th>\n      <td>2004.0</td>\n      <td>11.0</td>\n      <td>Apartment</td>\n      <td>1375.45</td>\n      <td>467083.31</td>\n      <td>Sold</td>\n      <td>C0014</td>\n      <td>Individual</td>\n      <td>1979.0</td>\n      <td>FEMALE</td>\n      <td>USA</td>\n      <td>California</td>\n      <td>Home</td>\n      <td>4.0</td>\n      <td>No</td>\n      <td>Agency</td>\n      <td>25.0</td>\n      <td>18-25</td>\n    </tr>\n    <tr>\n      <th>...</th>\n      <td>...</td>\n      <td>...</td>\n      <td>...</td>\n      <td>...</td>\n      <td>...</td>\n      <td>...</td>\n      <td>...</td>\n      <td>...</td>\n      <td>...</td>\n      <td>...</td>\n      <td>...</td>\n      <td>...</td>\n      <td>...</td>\n      <td>...</td>\n      <td>...</td>\n      <td>...</td>\n      <td>...</td>\n      <td>...</td>\n    </tr>\n    <tr>\n      <th>191</th>\n      <td>2005.0</td>\n      <td>7.0</td>\n      <td>Apartment</td>\n      <td>743.09</td>\n      <td>210745.17</td>\n      <td>Sold</td>\n      <td>C0174</td>\n      <td>Firm</td>\n      <td>NaN</td>\n      <td>FIRM</td>\n      <td>USA</td>\n      <td>California</td>\n      <td>Investment</td>\n      <td>5.0</td>\n      <td>No</td>\n      <td>Website</td>\n      <td>NaN</td>\n      <td>0</td>\n    </tr>\n    <tr>\n      <th>192</th>\n      <td>2005.0</td>\n      <td>7.0</td>\n      <td>Apartment</td>\n      <td>1160.36</td>\n      <td>331154.88</td>\n      <td>Sold</td>\n      <td>C0174</td>\n      <td>Firm</td>\n      <td>NaN</td>\n      <td>FIRM</td>\n      <td>USA</td>\n      <td>California</td>\n      <td>Investment</td>\n      <td>5.0</td>\n      <td>No</td>\n      <td>Website</td>\n      <td>NaN</td>\n      <td>0</td>\n    </tr>\n    <tr>\n      <th>193</th>\n      <td>2005.0</td>\n      <td>7.0</td>\n      <td>Apartment</td>\n      <td>625.80</td>\n      <td>204434.68</td>\n      <td>Sold</td>\n      <td>C0174</td>\n      <td>Firm</td>\n      <td>NaN</td>\n      <td>FIRM</td>\n      <td>USA</td>\n      <td>California</td>\n      <td>Investment</td>\n      <td>5.0</td>\n      <td>No</td>\n      <td>Website</td>\n      <td>NaN</td>\n      <td>0</td>\n    </tr>\n    <tr>\n      <th>194</th>\n      <td>2005.0</td>\n      <td>7.0</td>\n      <td>Apartment</td>\n      <td>756.21</td>\n      <td>189194.31</td>\n      <td>Sold</td>\n      <td>C0174</td>\n      <td>Firm</td>\n      <td>NaN</td>\n      <td>FIRM</td>\n      <td>USA</td>\n      <td>California</td>\n      <td>Investment</td>\n      <td>5.0</td>\n      <td>No</td>\n      <td>Website</td>\n      <td>NaN</td>\n      <td>0</td>\n    </tr>\n    <tr>\n      <th>195</th>\n      <td>2005.0</td>\n      <td>7.0</td>\n      <td>Apartment</td>\n      <td>625.80</td>\n      <td>204027.09</td>\n      <td>Sold</td>\n      <td>C0174</td>\n      <td>Firm</td>\n      <td>NaN</td>\n      <td>FIRM</td>\n      <td>USA</td>\n      <td>California</td>\n      <td>Investment</td>\n      <td>5.0</td>\n      <td>No</td>\n      <td>Website</td>\n      <td>NaN</td>\n      <td>0</td>\n    </tr>\n  </tbody>\n</table>\n<p>177 rows × 18 columns</p>\n</div>"
     },
     "metadata": {},
     "execution_count": 26
    }
   ],
   "source": [
    "df_sold"
   ]
  },
  {
   "cell_type": "code",
   "execution_count": null,
   "metadata": {},
   "outputs": [],
   "source": []
  },
  {
   "cell_type": "code",
   "execution_count": null,
   "metadata": {},
   "outputs": [],
   "source": []
  },
  {
   "cell_type": "code",
   "execution_count": null,
   "metadata": {},
   "outputs": [],
   "source": []
  },
  {
   "cell_type": "code",
   "execution_count": null,
   "metadata": {},
   "outputs": [],
   "source": []
  },
  {
   "cell_type": "code",
   "execution_count": null,
   "metadata": {},
   "outputs": [],
   "source": []
  },
  {
   "cell_type": "code",
   "execution_count": null,
   "metadata": {},
   "outputs": [],
   "source": []
  },
  {
   "cell_type": "code",
   "execution_count": null,
   "metadata": {},
   "outputs": [],
   "source": []
  },
  {
   "cell_type": "code",
   "execution_count": null,
   "metadata": {},
   "outputs": [],
   "source": []
  },
  {
   "cell_type": "code",
   "execution_count": null,
   "metadata": {},
   "outputs": [],
   "source": []
  },
  {
   "cell_type": "code",
   "execution_count": null,
   "metadata": {},
   "outputs": [],
   "source": []
  },
  {
   "cell_type": "code",
   "execution_count": null,
   "metadata": {},
   "outputs": [],
   "source": []
  },
  {
   "cell_type": "code",
   "execution_count": null,
   "metadata": {},
   "outputs": [],
   "source": []
  },
  {
   "cell_type": "code",
   "execution_count": null,
   "metadata": {},
   "outputs": [],
   "source": []
  },
  {
   "cell_type": "code",
   "execution_count": null,
   "metadata": {},
   "outputs": [],
   "source": []
  },
  {
   "cell_type": "code",
   "execution_count": null,
   "metadata": {},
   "outputs": [],
   "source": []
  },
  {
   "cell_type": "code",
   "execution_count": null,
   "metadata": {},
   "outputs": [],
   "source": []
  },
  {
   "cell_type": "code",
   "execution_count": null,
   "metadata": {},
   "outputs": [],
   "source": []
  },
  {
   "cell_type": "code",
   "execution_count": null,
   "metadata": {},
   "outputs": [],
   "source": []
  },
  {
   "cell_type": "code",
   "execution_count": null,
   "metadata": {},
   "outputs": [],
   "source": []
  },
  {
   "cell_type": "code",
   "execution_count": null,
   "metadata": {},
   "outputs": [],
   "source": []
  },
  {
   "cell_type": "code",
   "execution_count": null,
   "metadata": {},
   "outputs": [],
   "source": []
  },
  {
   "cell_type": "code",
   "execution_count": null,
   "metadata": {},
   "outputs": [],
   "source": []
  },
  {
   "cell_type": "code",
   "execution_count": null,
   "metadata": {},
   "outputs": [],
   "source": []
  },
  {
   "cell_type": "code",
   "execution_count": null,
   "metadata": {},
   "outputs": [],
   "source": []
  }
 ],
 "metadata": {
  "kernelspec": {
   "display_name": "Python 3",
   "language": "python",
   "name": "python3"
  },
  "language_info": {
   "codemirror_mode": {
    "name": "ipython",
    "version": 3
   },
   "file_extension": ".py",
   "mimetype": "text/x-python",
   "name": "python",
   "nbconvert_exporter": "python",
   "pygments_lexer": "ipython3",
   "version": "3.6.12-final"
  }
 },
 "nbformat": 4,
 "nbformat_minor": 4
}